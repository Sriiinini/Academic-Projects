{
 "cells": [
  {
   "cell_type": "markdown",
   "metadata": {},
   "source": [
    "#### Assignment: Using Spark to find lethal Drug X"
   ]
  },
  {
   "cell_type": "markdown",
   "metadata": {},
   "source": [
    "**Goal: To use Spark and confirm the hypothesis that a drug is lethal and was taken by all deceased patients**\n",
    "\n",
    "A research institution is running a drug test on multiple drugs simultaneously, and have experienced a suspicious number of deaths. A clinician has made the observation that \"all of the deceased patients shared one drug in common\".\n",
    "\n",
    "The dataset has two tables of data -\n",
    " - \"patients.txt\" --> list of patients, and their status \"Live\" or \"Deceased\"\n",
    "  - \"druglog.txt\" --> record of each drug dose administered to the patients\n",
    "\n"
   ]
  },
  {
   "cell_type": "code",
   "execution_count": 6,
   "metadata": {},
   "outputs": [],
   "source": [
    "# Create a Spark session\n",
    "from pyspark.sql import SparkSession\n",
    "from pyspark import SparkContext\n",
    "\n",
    "spark = SparkSession.builder.appName(\"BigDataAnalysis\").getOrCreate()\n",
    "sc = SparkContext.getOrCreate()"
   ]
  },
  {
   "cell_type": "code",
   "execution_count": 7,
   "metadata": {},
   "outputs": [],
   "source": [
    "# Loading and reading the dataset\n",
    "drugrdd = sc.textFile(\"druglog.txt\")\n",
    "patientrdd = sc.textFile(\"patients.txt\")\n",
    "\n",
    "# Transforming the RDD to a structured format\n",
    "drug_rdd = drugrdd.map(lambda line: line.split(','))\n",
    "patient_rdd = patientrdd.map(lambda line: line.split(','))"
   ]
  },
  {
   "cell_type": "code",
   "execution_count": 11,
   "metadata": {},
   "outputs": [
    {
     "data": {
      "text/plain": [
       "[['Susan Shull', 'GenemodZ'],\n",
       " ['Edward Hurley', 'AgentA'],\n",
       " ['Denise Wyrick', 'SerumQ'],\n",
       " ['Willie Mitchell', 'SerumQ'],\n",
       " ['Rita Pefferkorn', 'SerumQ'],\n",
       " ['Roberto White', 'AgentA'],\n",
       " ['Tessie Whitehouse', 'AgentA'],\n",
       " ['Elizabeth Pinson', 'SerumQ'],\n",
       " ['Gertrude Mccormick', 'AntibodyY'],\n",
       " ['Robert Rodkey', 'SerumQ']]"
      ]
     },
     "execution_count": 11,
     "metadata": {},
     "output_type": "execute_result"
    }
   ],
   "source": [
    "drug_rdd.take(10)"
   ]
  },
  {
   "cell_type": "code",
   "execution_count": 10,
   "metadata": {},
   "outputs": [
    {
     "data": {
      "text/plain": [
       "[['Mary Yates', 'Deceased'],\n",
       " ['James Parker', 'Live'],\n",
       " ['Kim Bond', 'Deceased'],\n",
       " ['Thomas Broadnax', 'Deceased'],\n",
       " ['Stephen Williams', 'Live'],\n",
       " ['Mark Hinton', 'Deceased'],\n",
       " ['Deborah Lloyd', 'Live'],\n",
       " ['Linda Barnes', 'Live'],\n",
       " ['Donald Zawacki', 'Live'],\n",
       " ['Rene Spencer', 'Deceased']]"
      ]
     },
     "execution_count": 10,
     "metadata": {},
     "output_type": "execute_result"
    }
   ],
   "source": [
    "patient_rdd.take(10)"
   ]
  },
  {
   "cell_type": "code",
   "execution_count": 12,
   "metadata": {},
   "outputs": [
    {
     "data": {
      "text/plain": [
       "[('Donald Zawacki', ('Live', 'AntibodyY')),\n",
       " ('Christi Bailey', ('Live', 'GenemodZ')),\n",
       " ('Derek Auger', ('Deceased', 'AntibodyY')),\n",
       " ('Derek Auger', ('Deceased', 'SerumQ')),\n",
       " ('Herbert Hamilton', ('Deceased', 'SerumQ')),\n",
       " ('Herbert Hamilton', ('Deceased', 'AgentA')),\n",
       " ('Herbert Hamilton', ('Deceased', 'SubstanceX')),\n",
       " ('Michelle Tutwiler', ('Live', 'SubstanceX')),\n",
       " ('Michelle Tutwiler', ('Live', 'AntibodyY')),\n",
       " ('Ryan Coleman', ('Live', 'AgentA'))]"
      ]
     },
     "execution_count": 12,
     "metadata": {},
     "output_type": "execute_result"
    }
   ],
   "source": [
    "combined_rdd = patient_rdd.join(drug_rdd)\n",
    "combined_rdd.take(10)"
   ]
  },
  {
   "cell_type": "code",
   "execution_count": 13,
   "metadata": {},
   "outputs": [
    {
     "data": {
      "text/plain": [
       "[('Donald Zawacki', 'Live', 'AntibodyY'),\n",
       " ('Christi Bailey', 'Live', 'GenemodZ'),\n",
       " ('Derek Auger', 'Deceased', 'AntibodyY'),\n",
       " ('Derek Auger', 'Deceased', 'SerumQ'),\n",
       " ('Herbert Hamilton', 'Deceased', 'SerumQ'),\n",
       " ('Herbert Hamilton', 'Deceased', 'AgentA'),\n",
       " ('Herbert Hamilton', 'Deceased', 'SubstanceX'),\n",
       " ('Michelle Tutwiler', 'Live', 'SubstanceX'),\n",
       " ('Michelle Tutwiler', 'Live', 'AntibodyY'),\n",
       " ('Ryan Coleman', 'Live', 'AgentA')]"
      ]
     },
     "execution_count": 13,
     "metadata": {},
     "output_type": "execute_result"
    }
   ],
   "source": [
    "def flatten_tuple(element):\n",
    "    ...:     name, (status, drug) = element\n",
    "    ...:     return name, status, drug\n",
    " \n",
    "combined_rdd1 = combined_rdd.map(flatten_tuple)\n",
    "combined_rdd1.take(10)"
   ]
  },
  {
   "cell_type": "code",
   "execution_count": 14,
   "metadata": {},
   "outputs": [
    {
     "data": {
      "text/plain": [
       "[('Derek Auger', 'Deceased', 'AntibodyY'),\n",
       " ('Derek Auger', 'Deceased', 'SerumQ'),\n",
       " ('Herbert Hamilton', 'Deceased', 'SerumQ'),\n",
       " ('Herbert Hamilton', 'Deceased', 'AgentA'),\n",
       " ('Herbert Hamilton', 'Deceased', 'SubstanceX'),\n",
       " ('Terry Averitt', 'Deceased', 'SerumQ'),\n",
       " ('Terry Averitt', 'Deceased', 'AgentA'),\n",
       " ('Natasha Echeverria', 'Deceased', 'SerumQ'),\n",
       " ('Amanda Pollock', 'Deceased', 'SerumQ'),\n",
       " ('Claudia Knight', 'Deceased', 'SerumQ')]"
      ]
     },
     "execution_count": 14,
     "metadata": {},
     "output_type": "execute_result"
    }
   ],
   "source": [
    "#to only filter by those who are deceased\n",
    "filtered_rdd = combined_rdd1.filter(lambda x: x[1] == 'Deceased')\n",
    "filtered_rdd.take(10)"
   ]
  },
  {
   "cell_type": "markdown",
   "metadata": {},
   "source": [
    "From the above output, we can see that a common drug among all of them is \"Serum Q\""
   ]
  },
  {
   "cell_type": "code",
   "execution_count": 17,
   "metadata": {},
   "outputs": [
    {
     "data": {
      "text/plain": [
       "4999"
      ]
     },
     "execution_count": 17,
     "metadata": {},
     "output_type": "execute_result"
    }
   ],
   "source": [
    "#Checking the number of patients who took Serum Q and passed away\n",
    "filtered_rdd1 = filtered_rdd.filter(lambda element: element[2] == 'SerumQ')\n",
    "filtered_rdd1.count()"
   ]
  },
  {
   "cell_type": "code",
   "execution_count": 16,
   "metadata": {},
   "outputs": [
    {
     "data": {
      "text/plain": [
       "4999"
      ]
     },
     "execution_count": 16,
     "metadata": {},
     "output_type": "execute_result"
    }
   ],
   "source": [
    "#Checking the number of patients who passed away only\n",
    "distinct_first_elements = filtered_rdd.map(lambda element: element[0]).distinct()\n",
    "distinct_first_elements.count()"
   ]
  },
  {
   "cell_type": "markdown",
   "metadata": {},
   "source": [
    "From the above we can see that the count for filtered_rdd1 and count for distinct_first_elements are 4999, proving that the number of deceased is equal to the number of people who took serum Q. Therefore, proving that those who are deceased took serum Q.\n"
   ]
  }
 ],
 "metadata": {
  "kernelspec": {
   "display_name": "Python 3",
   "language": "python",
   "name": "python3"
  },
  "language_info": {
   "codemirror_mode": {
    "name": "ipython",
    "version": 3
   },
   "file_extension": ".py",
   "mimetype": "text/x-python",
   "name": "python",
   "nbconvert_exporter": "python",
   "pygments_lexer": "ipython3",
   "version": "3.8.8"
  },
  "orig_nbformat": 4
 },
 "nbformat": 4,
 "nbformat_minor": 2
}
