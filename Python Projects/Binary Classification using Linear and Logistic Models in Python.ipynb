{
 "cells": [
  {
   "cell_type": "markdown",
   "metadata": {},
   "source": [
    "### 38615: Computational Modelling and Machine Learning\n",
    "#### Clustering Assignment HW 3"
   ]
  },
  {
   "cell_type": "markdown",
   "metadata": {},
   "source": [
    "### Section 1: Preparing the data for binary classification"
   ]
  },
  {
   "cell_type": "code",
   "execution_count": 4,
   "metadata": {},
   "outputs": [],
   "source": [
    "#importing necessary libraries\n",
    "import numpy as np\n",
    "import pandas as pd\n",
    "\n",
    "import sklearn\n",
    "from sklearn.linear_model import LinearRegression\n",
    "from sklearn.linear_model import LogisticRegression\n",
    "from sklearn.metrics import f1_score\n",
    "from sklearn.metrics import accuracy_score\n",
    "from sklearn.model_selection import RandomizedSearchCV\n",
    "\n",
    "import warnings\n",
    "warnings.filterwarnings('ignore')"
   ]
  },
  {
   "cell_type": "code",
   "execution_count": 7,
   "metadata": {},
   "outputs": [],
   "source": [
    "#loading the dataset\n",
    "train_Y = pd.read_csv(\"/Users/srinidhi/Desktop/train_y.csv\") \n",
    "train_X = pd.read_csv(\"/Users/srinidhi/Desktop/train_X.csv\") \n",
    "test_X = pd.read_csv(\"/Users/srinidhi/Desktop/test_X.csv\") "
   ]
  },
  {
   "cell_type": "code",
   "execution_count": 4,
   "metadata": {},
   "outputs": [
    {
     "name": "stdout",
     "output_type": "stream",
     "text": [
      "Number of null values in Train X are -  0\n",
      "Number of null values in Train Y are -  0\n",
      "Number of null values in Test X are -  0\n"
     ]
    }
   ],
   "source": [
    "#checking for missing values\n",
    "print(\"Number of null values in Train X are - \",train_X.isnull().values.any().sum())\n",
    "print(\"Number of null values in Train Y are - \",train_Y.isnull().values.any().sum())\n",
    "print(\"Number of null values in Test X are - \",test_X.isnull().values.any().sum())"
   ]
  },
  {
   "cell_type": "markdown",
   "metadata": {},
   "source": [
    "From the output above, we can see that there is no missing values. Hence, not necessary to remove any missing values from our dataset. "
   ]
  },
  {
   "cell_type": "code",
   "execution_count": 8,
   "metadata": {},
   "outputs": [
    {
     "data": {
      "text/html": [
       "<div>\n",
       "<style scoped>\n",
       "    .dataframe tbody tr th:only-of-type {\n",
       "        vertical-align: middle;\n",
       "    }\n",
       "\n",
       "    .dataframe tbody tr th {\n",
       "        vertical-align: top;\n",
       "    }\n",
       "\n",
       "    .dataframe thead th {\n",
       "        text-align: right;\n",
       "    }\n",
       "</style>\n",
       "<table border=\"1\" class=\"dataframe\">\n",
       "  <thead>\n",
       "    <tr style=\"text-align: right;\">\n",
       "      <th></th>\n",
       "      <th>ENSG00000000003</th>\n",
       "      <th>ENSG00000000005</th>\n",
       "      <th>ENSG00000000419</th>\n",
       "      <th>ENSG00000000457</th>\n",
       "      <th>ENSG00000000938</th>\n",
       "      <th>ENSG00000000971</th>\n",
       "      <th>ENSG00000001036</th>\n",
       "      <th>ENSG00000001084</th>\n",
       "      <th>ENSG00000001167</th>\n",
       "      <th>ENSG00000001460</th>\n",
       "      <th>...</th>\n",
       "      <th>ENSG00000282651</th>\n",
       "      <th>ENSG00000282815</th>\n",
       "      <th>ENSG00000282939</th>\n",
       "      <th>ENSG00000283063</th>\n",
       "      <th>ENSG00000283439</th>\n",
       "      <th>ENSG00000283463</th>\n",
       "      <th>ENSG00000283526</th>\n",
       "      <th>ENSG00000283586</th>\n",
       "      <th>ENSG00000283632</th>\n",
       "      <th>ENSG00000283697</th>\n",
       "    </tr>\n",
       "    <tr>\n",
       "      <th>Unnamed: 0</th>\n",
       "      <th></th>\n",
       "      <th></th>\n",
       "      <th></th>\n",
       "      <th></th>\n",
       "      <th></th>\n",
       "      <th></th>\n",
       "      <th></th>\n",
       "      <th></th>\n",
       "      <th></th>\n",
       "      <th></th>\n",
       "      <th></th>\n",
       "      <th></th>\n",
       "      <th></th>\n",
       "      <th></th>\n",
       "      <th></th>\n",
       "      <th></th>\n",
       "      <th></th>\n",
       "      <th></th>\n",
       "      <th></th>\n",
       "      <th></th>\n",
       "      <th></th>\n",
       "    </tr>\n",
       "  </thead>\n",
       "  <tbody>\n",
       "    <tr>\n",
       "      <th>EB0D68BC-5FF9-44A5-A355-CA5441BFBA0A</th>\n",
       "      <td>7.062725</td>\n",
       "      <td>0.026623</td>\n",
       "      <td>6.720413</td>\n",
       "      <td>5.449267</td>\n",
       "      <td>3.868619</td>\n",
       "      <td>4.587771</td>\n",
       "      <td>7.165112</td>\n",
       "      <td>4.643161</td>\n",
       "      <td>6.771731</td>\n",
       "      <td>4.750296</td>\n",
       "      <td>...</td>\n",
       "      <td>0.325987</td>\n",
       "      <td>-5.545564</td>\n",
       "      <td>-5.545564</td>\n",
       "      <td>-5.545564</td>\n",
       "      <td>-5.545564</td>\n",
       "      <td>4.014351</td>\n",
       "      <td>4.841392</td>\n",
       "      <td>-5.545564</td>\n",
       "      <td>5.855893</td>\n",
       "      <td>3.618253</td>\n",
       "    </tr>\n",
       "    <tr>\n",
       "      <th>0876B4BB-58BA-4C4C-84F4-E9D19EF96147</th>\n",
       "      <td>5.965392</td>\n",
       "      <td>-5.431256</td>\n",
       "      <td>6.358498</td>\n",
       "      <td>4.161479</td>\n",
       "      <td>4.585293</td>\n",
       "      <td>4.326924</td>\n",
       "      <td>6.849703</td>\n",
       "      <td>4.391534</td>\n",
       "      <td>5.819945</td>\n",
       "      <td>3.435322</td>\n",
       "      <td>...</td>\n",
       "      <td>5.910874</td>\n",
       "      <td>-0.945029</td>\n",
       "      <td>3.750430</td>\n",
       "      <td>1.611211</td>\n",
       "      <td>-0.498573</td>\n",
       "      <td>3.430928</td>\n",
       "      <td>3.160435</td>\n",
       "      <td>-5.431256</td>\n",
       "      <td>4.413930</td>\n",
       "      <td>3.353496</td>\n",
       "    </tr>\n",
       "    <tr>\n",
       "      <th>EACD1021-7B52-4531-8806-B7555B73AC84</th>\n",
       "      <td>7.892221</td>\n",
       "      <td>-5.851870</td>\n",
       "      <td>8.132992</td>\n",
       "      <td>5.986320</td>\n",
       "      <td>5.422599</td>\n",
       "      <td>4.728815</td>\n",
       "      <td>8.168477</td>\n",
       "      <td>6.289562</td>\n",
       "      <td>7.331591</td>\n",
       "      <td>5.336794</td>\n",
       "      <td>...</td>\n",
       "      <td>10.103565</td>\n",
       "      <td>-5.851870</td>\n",
       "      <td>6.498217</td>\n",
       "      <td>5.481945</td>\n",
       "      <td>-5.851870</td>\n",
       "      <td>5.137298</td>\n",
       "      <td>4.296777</td>\n",
       "      <td>-5.851870</td>\n",
       "      <td>5.345372</td>\n",
       "      <td>5.028567</td>\n",
       "    </tr>\n",
       "    <tr>\n",
       "      <th>368ACD26-C7FB-4974-BB7F-0AE22670CB0E</th>\n",
       "      <td>6.826546</td>\n",
       "      <td>0.964851</td>\n",
       "      <td>5.998280</td>\n",
       "      <td>4.991435</td>\n",
       "      <td>4.963000</td>\n",
       "      <td>4.977695</td>\n",
       "      <td>7.149421</td>\n",
       "      <td>4.570863</td>\n",
       "      <td>6.008286</td>\n",
       "      <td>5.474553</td>\n",
       "      <td>...</td>\n",
       "      <td>2.442099</td>\n",
       "      <td>-5.994056</td>\n",
       "      <td>2.862038</td>\n",
       "      <td>1.909955</td>\n",
       "      <td>0.568120</td>\n",
       "      <td>4.768694</td>\n",
       "      <td>3.983207</td>\n",
       "      <td>-5.994056</td>\n",
       "      <td>4.609411</td>\n",
       "      <td>4.329472</td>\n",
       "    </tr>\n",
       "    <tr>\n",
       "      <th>F23B0A1A-25AE-41D9-8C49-B692C4FDE1E4</th>\n",
       "      <td>7.059095</td>\n",
       "      <td>2.429954</td>\n",
       "      <td>6.746639</td>\n",
       "      <td>5.591316</td>\n",
       "      <td>5.111120</td>\n",
       "      <td>5.972938</td>\n",
       "      <td>7.576201</td>\n",
       "      <td>6.032083</td>\n",
       "      <td>6.470761</td>\n",
       "      <td>5.380887</td>\n",
       "      <td>...</td>\n",
       "      <td>5.553223</td>\n",
       "      <td>-5.870484</td>\n",
       "      <td>3.044916</td>\n",
       "      <td>-5.870484</td>\n",
       "      <td>0.018320</td>\n",
       "      <td>4.640575</td>\n",
       "      <td>4.954957</td>\n",
       "      <td>-5.870484</td>\n",
       "      <td>4.620774</td>\n",
       "      <td>4.464277</td>\n",
       "    </tr>\n",
       "  </tbody>\n",
       "</table>\n",
       "<p>5 rows × 17970 columns</p>\n",
       "</div>"
      ],
      "text/plain": [
       "                                      ENSG00000000003  ENSG00000000005  \\\n",
       "Unnamed: 0                                                               \n",
       "EB0D68BC-5FF9-44A5-A355-CA5441BFBA0A         7.062725         0.026623   \n",
       "0876B4BB-58BA-4C4C-84F4-E9D19EF96147         5.965392        -5.431256   \n",
       "EACD1021-7B52-4531-8806-B7555B73AC84         7.892221        -5.851870   \n",
       "368ACD26-C7FB-4974-BB7F-0AE22670CB0E         6.826546         0.964851   \n",
       "F23B0A1A-25AE-41D9-8C49-B692C4FDE1E4         7.059095         2.429954   \n",
       "\n",
       "                                      ENSG00000000419  ENSG00000000457  \\\n",
       "Unnamed: 0                                                               \n",
       "EB0D68BC-5FF9-44A5-A355-CA5441BFBA0A         6.720413         5.449267   \n",
       "0876B4BB-58BA-4C4C-84F4-E9D19EF96147         6.358498         4.161479   \n",
       "EACD1021-7B52-4531-8806-B7555B73AC84         8.132992         5.986320   \n",
       "368ACD26-C7FB-4974-BB7F-0AE22670CB0E         5.998280         4.991435   \n",
       "F23B0A1A-25AE-41D9-8C49-B692C4FDE1E4         6.746639         5.591316   \n",
       "\n",
       "                                      ENSG00000000938  ENSG00000000971  \\\n",
       "Unnamed: 0                                                               \n",
       "EB0D68BC-5FF9-44A5-A355-CA5441BFBA0A         3.868619         4.587771   \n",
       "0876B4BB-58BA-4C4C-84F4-E9D19EF96147         4.585293         4.326924   \n",
       "EACD1021-7B52-4531-8806-B7555B73AC84         5.422599         4.728815   \n",
       "368ACD26-C7FB-4974-BB7F-0AE22670CB0E         4.963000         4.977695   \n",
       "F23B0A1A-25AE-41D9-8C49-B692C4FDE1E4         5.111120         5.972938   \n",
       "\n",
       "                                      ENSG00000001036  ENSG00000001084  \\\n",
       "Unnamed: 0                                                               \n",
       "EB0D68BC-5FF9-44A5-A355-CA5441BFBA0A         7.165112         4.643161   \n",
       "0876B4BB-58BA-4C4C-84F4-E9D19EF96147         6.849703         4.391534   \n",
       "EACD1021-7B52-4531-8806-B7555B73AC84         8.168477         6.289562   \n",
       "368ACD26-C7FB-4974-BB7F-0AE22670CB0E         7.149421         4.570863   \n",
       "F23B0A1A-25AE-41D9-8C49-B692C4FDE1E4         7.576201         6.032083   \n",
       "\n",
       "                                      ENSG00000001167  ENSG00000001460  ...  \\\n",
       "Unnamed: 0                                                              ...   \n",
       "EB0D68BC-5FF9-44A5-A355-CA5441BFBA0A         6.771731         4.750296  ...   \n",
       "0876B4BB-58BA-4C4C-84F4-E9D19EF96147         5.819945         3.435322  ...   \n",
       "EACD1021-7B52-4531-8806-B7555B73AC84         7.331591         5.336794  ...   \n",
       "368ACD26-C7FB-4974-BB7F-0AE22670CB0E         6.008286         5.474553  ...   \n",
       "F23B0A1A-25AE-41D9-8C49-B692C4FDE1E4         6.470761         5.380887  ...   \n",
       "\n",
       "                                      ENSG00000282651  ENSG00000282815  \\\n",
       "Unnamed: 0                                                               \n",
       "EB0D68BC-5FF9-44A5-A355-CA5441BFBA0A         0.325987        -5.545564   \n",
       "0876B4BB-58BA-4C4C-84F4-E9D19EF96147         5.910874        -0.945029   \n",
       "EACD1021-7B52-4531-8806-B7555B73AC84        10.103565        -5.851870   \n",
       "368ACD26-C7FB-4974-BB7F-0AE22670CB0E         2.442099        -5.994056   \n",
       "F23B0A1A-25AE-41D9-8C49-B692C4FDE1E4         5.553223        -5.870484   \n",
       "\n",
       "                                      ENSG00000282939  ENSG00000283063  \\\n",
       "Unnamed: 0                                                               \n",
       "EB0D68BC-5FF9-44A5-A355-CA5441BFBA0A        -5.545564        -5.545564   \n",
       "0876B4BB-58BA-4C4C-84F4-E9D19EF96147         3.750430         1.611211   \n",
       "EACD1021-7B52-4531-8806-B7555B73AC84         6.498217         5.481945   \n",
       "368ACD26-C7FB-4974-BB7F-0AE22670CB0E         2.862038         1.909955   \n",
       "F23B0A1A-25AE-41D9-8C49-B692C4FDE1E4         3.044916        -5.870484   \n",
       "\n",
       "                                      ENSG00000283439  ENSG00000283463  \\\n",
       "Unnamed: 0                                                               \n",
       "EB0D68BC-5FF9-44A5-A355-CA5441BFBA0A        -5.545564         4.014351   \n",
       "0876B4BB-58BA-4C4C-84F4-E9D19EF96147        -0.498573         3.430928   \n",
       "EACD1021-7B52-4531-8806-B7555B73AC84        -5.851870         5.137298   \n",
       "368ACD26-C7FB-4974-BB7F-0AE22670CB0E         0.568120         4.768694   \n",
       "F23B0A1A-25AE-41D9-8C49-B692C4FDE1E4         0.018320         4.640575   \n",
       "\n",
       "                                      ENSG00000283526  ENSG00000283586  \\\n",
       "Unnamed: 0                                                               \n",
       "EB0D68BC-5FF9-44A5-A355-CA5441BFBA0A         4.841392        -5.545564   \n",
       "0876B4BB-58BA-4C4C-84F4-E9D19EF96147         3.160435        -5.431256   \n",
       "EACD1021-7B52-4531-8806-B7555B73AC84         4.296777        -5.851870   \n",
       "368ACD26-C7FB-4974-BB7F-0AE22670CB0E         3.983207        -5.994056   \n",
       "F23B0A1A-25AE-41D9-8C49-B692C4FDE1E4         4.954957        -5.870484   \n",
       "\n",
       "                                      ENSG00000283632  ENSG00000283697  \n",
       "Unnamed: 0                                                              \n",
       "EB0D68BC-5FF9-44A5-A355-CA5441BFBA0A         5.855893         3.618253  \n",
       "0876B4BB-58BA-4C4C-84F4-E9D19EF96147         4.413930         3.353496  \n",
       "EACD1021-7B52-4531-8806-B7555B73AC84         5.345372         5.028567  \n",
       "368ACD26-C7FB-4974-BB7F-0AE22670CB0E         4.609411         4.329472  \n",
       "F23B0A1A-25AE-41D9-8C49-B692C4FDE1E4         4.620774         4.464277  \n",
       "\n",
       "[5 rows x 17970 columns]"
      ]
     },
     "execution_count": 8,
     "metadata": {},
     "output_type": "execute_result"
    }
   ],
   "source": [
    "#setting the indexes and viewing the dataset\n",
    "train_X.set_index('Unnamed: 0', inplace=True)\n",
    "train_X.head()"
   ]
  },
  {
   "cell_type": "code",
   "execution_count": 9,
   "metadata": {},
   "outputs": [
    {
     "data": {
      "text/html": [
       "<div>\n",
       "<style scoped>\n",
       "    .dataframe tbody tr th:only-of-type {\n",
       "        vertical-align: middle;\n",
       "    }\n",
       "\n",
       "    .dataframe tbody tr th {\n",
       "        vertical-align: top;\n",
       "    }\n",
       "\n",
       "    .dataframe thead th {\n",
       "        text-align: right;\n",
       "    }\n",
       "</style>\n",
       "<table border=\"1\" class=\"dataframe\">\n",
       "  <thead>\n",
       "    <tr style=\"text-align: right;\">\n",
       "      <th></th>\n",
       "      <th>xml_neoplasm_histologic_grade</th>\n",
       "    </tr>\n",
       "    <tr>\n",
       "      <th>Unnamed: 0</th>\n",
       "      <th></th>\n",
       "    </tr>\n",
       "  </thead>\n",
       "  <tbody>\n",
       "    <tr>\n",
       "      <th>EB0D68BC-5FF9-44A5-A355-CA5441BFBA0A</th>\n",
       "      <td>0</td>\n",
       "    </tr>\n",
       "    <tr>\n",
       "      <th>0876B4BB-58BA-4C4C-84F4-E9D19EF96147</th>\n",
       "      <td>1</td>\n",
       "    </tr>\n",
       "    <tr>\n",
       "      <th>EACD1021-7B52-4531-8806-B7555B73AC84</th>\n",
       "      <td>0</td>\n",
       "    </tr>\n",
       "    <tr>\n",
       "      <th>368ACD26-C7FB-4974-BB7F-0AE22670CB0E</th>\n",
       "      <td>0</td>\n",
       "    </tr>\n",
       "    <tr>\n",
       "      <th>F23B0A1A-25AE-41D9-8C49-B692C4FDE1E4</th>\n",
       "      <td>1</td>\n",
       "    </tr>\n",
       "  </tbody>\n",
       "</table>\n",
       "</div>"
      ],
      "text/plain": [
       "                                      xml_neoplasm_histologic_grade\n",
       "Unnamed: 0                                                         \n",
       "EB0D68BC-5FF9-44A5-A355-CA5441BFBA0A                              0\n",
       "0876B4BB-58BA-4C4C-84F4-E9D19EF96147                              1\n",
       "EACD1021-7B52-4531-8806-B7555B73AC84                              0\n",
       "368ACD26-C7FB-4974-BB7F-0AE22670CB0E                              0\n",
       "F23B0A1A-25AE-41D9-8C49-B692C4FDE1E4                              1"
      ]
     },
     "execution_count": 9,
     "metadata": {},
     "output_type": "execute_result"
    }
   ],
   "source": [
    "#setting the indexes and viewing the dataset\n",
    "train_Y.set_index('Unnamed: 0', inplace=True)\n",
    "train_Y.head()"
   ]
  },
  {
   "cell_type": "code",
   "execution_count": 10,
   "metadata": {},
   "outputs": [
    {
     "data": {
      "text/html": [
       "<div>\n",
       "<style scoped>\n",
       "    .dataframe tbody tr th:only-of-type {\n",
       "        vertical-align: middle;\n",
       "    }\n",
       "\n",
       "    .dataframe tbody tr th {\n",
       "        vertical-align: top;\n",
       "    }\n",
       "\n",
       "    .dataframe thead th {\n",
       "        text-align: right;\n",
       "    }\n",
       "</style>\n",
       "<table border=\"1\" class=\"dataframe\">\n",
       "  <thead>\n",
       "    <tr style=\"text-align: right;\">\n",
       "      <th></th>\n",
       "      <th>ENSG00000000003</th>\n",
       "      <th>ENSG00000000005</th>\n",
       "      <th>ENSG00000000419</th>\n",
       "      <th>ENSG00000000457</th>\n",
       "      <th>ENSG00000000938</th>\n",
       "      <th>ENSG00000000971</th>\n",
       "      <th>ENSG00000001036</th>\n",
       "      <th>ENSG00000001084</th>\n",
       "      <th>ENSG00000001167</th>\n",
       "      <th>ENSG00000001460</th>\n",
       "      <th>...</th>\n",
       "      <th>ENSG00000282651</th>\n",
       "      <th>ENSG00000282815</th>\n",
       "      <th>ENSG00000282939</th>\n",
       "      <th>ENSG00000283063</th>\n",
       "      <th>ENSG00000283439</th>\n",
       "      <th>ENSG00000283463</th>\n",
       "      <th>ENSG00000283526</th>\n",
       "      <th>ENSG00000283586</th>\n",
       "      <th>ENSG00000283632</th>\n",
       "      <th>ENSG00000283697</th>\n",
       "    </tr>\n",
       "    <tr>\n",
       "      <th>Unnamed: 0</th>\n",
       "      <th></th>\n",
       "      <th></th>\n",
       "      <th></th>\n",
       "      <th></th>\n",
       "      <th></th>\n",
       "      <th></th>\n",
       "      <th></th>\n",
       "      <th></th>\n",
       "      <th></th>\n",
       "      <th></th>\n",
       "      <th></th>\n",
       "      <th></th>\n",
       "      <th></th>\n",
       "      <th></th>\n",
       "      <th></th>\n",
       "      <th></th>\n",
       "      <th></th>\n",
       "      <th></th>\n",
       "      <th></th>\n",
       "      <th></th>\n",
       "      <th></th>\n",
       "    </tr>\n",
       "  </thead>\n",
       "  <tbody>\n",
       "    <tr>\n",
       "      <th>1576BB97-F8EA-48FF-9494-EBC7A0C97312</th>\n",
       "      <td>7.503849</td>\n",
       "      <td>1.685440</td>\n",
       "      <td>8.090089</td>\n",
       "      <td>5.546588</td>\n",
       "      <td>3.412025</td>\n",
       "      <td>5.871539</td>\n",
       "      <td>8.395029</td>\n",
       "      <td>5.894996</td>\n",
       "      <td>6.313896</td>\n",
       "      <td>4.286261</td>\n",
       "      <td>...</td>\n",
       "      <td>3.626396</td>\n",
       "      <td>-2.640463</td>\n",
       "      <td>-7.278265</td>\n",
       "      <td>0.721287</td>\n",
       "      <td>-7.278265</td>\n",
       "      <td>4.672536</td>\n",
       "      <td>5.153675</td>\n",
       "      <td>-7.278265</td>\n",
       "      <td>4.843800</td>\n",
       "      <td>4.302864</td>\n",
       "    </tr>\n",
       "    <tr>\n",
       "      <th>63F4281A-4D90-4589-879E-549097FB3459</th>\n",
       "      <td>6.112919</td>\n",
       "      <td>-5.425877</td>\n",
       "      <td>5.604743</td>\n",
       "      <td>4.248246</td>\n",
       "      <td>3.374033</td>\n",
       "      <td>3.370075</td>\n",
       "      <td>6.804015</td>\n",
       "      <td>4.646287</td>\n",
       "      <td>6.236134</td>\n",
       "      <td>4.167541</td>\n",
       "      <td>...</td>\n",
       "      <td>-5.425877</td>\n",
       "      <td>-2.143410</td>\n",
       "      <td>1.956699</td>\n",
       "      <td>1.377768</td>\n",
       "      <td>-5.425877</td>\n",
       "      <td>4.560829</td>\n",
       "      <td>3.735085</td>\n",
       "      <td>-5.425877</td>\n",
       "      <td>4.105789</td>\n",
       "      <td>4.803357</td>\n",
       "    </tr>\n",
       "    <tr>\n",
       "      <th>74CF740D-201D-4070-99B9-F007E7C4D472</th>\n",
       "      <td>6.183846</td>\n",
       "      <td>1.217355</td>\n",
       "      <td>6.093903</td>\n",
       "      <td>4.403216</td>\n",
       "      <td>5.722867</td>\n",
       "      <td>6.123209</td>\n",
       "      <td>7.680258</td>\n",
       "      <td>4.983386</td>\n",
       "      <td>5.626569</td>\n",
       "      <td>3.518791</td>\n",
       "      <td>...</td>\n",
       "      <td>11.317818</td>\n",
       "      <td>-5.259782</td>\n",
       "      <td>5.093316</td>\n",
       "      <td>3.800607</td>\n",
       "      <td>-5.259782</td>\n",
       "      <td>4.966710</td>\n",
       "      <td>2.829487</td>\n",
       "      <td>-5.259782</td>\n",
       "      <td>5.118704</td>\n",
       "      <td>5.024979</td>\n",
       "    </tr>\n",
       "    <tr>\n",
       "      <th>1329E1C1-743E-4541-9081-165572D4BF47</th>\n",
       "      <td>6.325535</td>\n",
       "      <td>-0.197432</td>\n",
       "      <td>6.722632</td>\n",
       "      <td>4.509093</td>\n",
       "      <td>4.941256</td>\n",
       "      <td>3.700171</td>\n",
       "      <td>7.492606</td>\n",
       "      <td>5.031053</td>\n",
       "      <td>5.859242</td>\n",
       "      <td>4.252114</td>\n",
       "      <td>...</td>\n",
       "      <td>3.536141</td>\n",
       "      <td>-1.362703</td>\n",
       "      <td>3.480703</td>\n",
       "      <td>0.776383</td>\n",
       "      <td>-0.999629</td>\n",
       "      <td>4.794226</td>\n",
       "      <td>-5.399485</td>\n",
       "      <td>-5.399485</td>\n",
       "      <td>4.660878</td>\n",
       "      <td>4.684343</td>\n",
       "    </tr>\n",
       "    <tr>\n",
       "      <th>88BBA1BF-44E0-416E-A028-04F410A3FE5D</th>\n",
       "      <td>7.162383</td>\n",
       "      <td>-5.539710</td>\n",
       "      <td>6.186110</td>\n",
       "      <td>5.270282</td>\n",
       "      <td>5.412103</td>\n",
       "      <td>3.781568</td>\n",
       "      <td>7.285779</td>\n",
       "      <td>4.847552</td>\n",
       "      <td>6.337205</td>\n",
       "      <td>5.622222</td>\n",
       "      <td>...</td>\n",
       "      <td>5.112772</td>\n",
       "      <td>-5.539710</td>\n",
       "      <td>4.369268</td>\n",
       "      <td>2.927849</td>\n",
       "      <td>0.791397</td>\n",
       "      <td>4.542333</td>\n",
       "      <td>4.628775</td>\n",
       "      <td>-5.539710</td>\n",
       "      <td>4.812787</td>\n",
       "      <td>4.524834</td>\n",
       "    </tr>\n",
       "  </tbody>\n",
       "</table>\n",
       "<p>5 rows × 17970 columns</p>\n",
       "</div>"
      ],
      "text/plain": [
       "                                      ENSG00000000003  ENSG00000000005  \\\n",
       "Unnamed: 0                                                               \n",
       "1576BB97-F8EA-48FF-9494-EBC7A0C97312         7.503849         1.685440   \n",
       "63F4281A-4D90-4589-879E-549097FB3459         6.112919        -5.425877   \n",
       "74CF740D-201D-4070-99B9-F007E7C4D472         6.183846         1.217355   \n",
       "1329E1C1-743E-4541-9081-165572D4BF47         6.325535        -0.197432   \n",
       "88BBA1BF-44E0-416E-A028-04F410A3FE5D         7.162383        -5.539710   \n",
       "\n",
       "                                      ENSG00000000419  ENSG00000000457  \\\n",
       "Unnamed: 0                                                               \n",
       "1576BB97-F8EA-48FF-9494-EBC7A0C97312         8.090089         5.546588   \n",
       "63F4281A-4D90-4589-879E-549097FB3459         5.604743         4.248246   \n",
       "74CF740D-201D-4070-99B9-F007E7C4D472         6.093903         4.403216   \n",
       "1329E1C1-743E-4541-9081-165572D4BF47         6.722632         4.509093   \n",
       "88BBA1BF-44E0-416E-A028-04F410A3FE5D         6.186110         5.270282   \n",
       "\n",
       "                                      ENSG00000000938  ENSG00000000971  \\\n",
       "Unnamed: 0                                                               \n",
       "1576BB97-F8EA-48FF-9494-EBC7A0C97312         3.412025         5.871539   \n",
       "63F4281A-4D90-4589-879E-549097FB3459         3.374033         3.370075   \n",
       "74CF740D-201D-4070-99B9-F007E7C4D472         5.722867         6.123209   \n",
       "1329E1C1-743E-4541-9081-165572D4BF47         4.941256         3.700171   \n",
       "88BBA1BF-44E0-416E-A028-04F410A3FE5D         5.412103         3.781568   \n",
       "\n",
       "                                      ENSG00000001036  ENSG00000001084  \\\n",
       "Unnamed: 0                                                               \n",
       "1576BB97-F8EA-48FF-9494-EBC7A0C97312         8.395029         5.894996   \n",
       "63F4281A-4D90-4589-879E-549097FB3459         6.804015         4.646287   \n",
       "74CF740D-201D-4070-99B9-F007E7C4D472         7.680258         4.983386   \n",
       "1329E1C1-743E-4541-9081-165572D4BF47         7.492606         5.031053   \n",
       "88BBA1BF-44E0-416E-A028-04F410A3FE5D         7.285779         4.847552   \n",
       "\n",
       "                                      ENSG00000001167  ENSG00000001460  ...  \\\n",
       "Unnamed: 0                                                              ...   \n",
       "1576BB97-F8EA-48FF-9494-EBC7A0C97312         6.313896         4.286261  ...   \n",
       "63F4281A-4D90-4589-879E-549097FB3459         6.236134         4.167541  ...   \n",
       "74CF740D-201D-4070-99B9-F007E7C4D472         5.626569         3.518791  ...   \n",
       "1329E1C1-743E-4541-9081-165572D4BF47         5.859242         4.252114  ...   \n",
       "88BBA1BF-44E0-416E-A028-04F410A3FE5D         6.337205         5.622222  ...   \n",
       "\n",
       "                                      ENSG00000282651  ENSG00000282815  \\\n",
       "Unnamed: 0                                                               \n",
       "1576BB97-F8EA-48FF-9494-EBC7A0C97312         3.626396        -2.640463   \n",
       "63F4281A-4D90-4589-879E-549097FB3459        -5.425877        -2.143410   \n",
       "74CF740D-201D-4070-99B9-F007E7C4D472        11.317818        -5.259782   \n",
       "1329E1C1-743E-4541-9081-165572D4BF47         3.536141        -1.362703   \n",
       "88BBA1BF-44E0-416E-A028-04F410A3FE5D         5.112772        -5.539710   \n",
       "\n",
       "                                      ENSG00000282939  ENSG00000283063  \\\n",
       "Unnamed: 0                                                               \n",
       "1576BB97-F8EA-48FF-9494-EBC7A0C97312        -7.278265         0.721287   \n",
       "63F4281A-4D90-4589-879E-549097FB3459         1.956699         1.377768   \n",
       "74CF740D-201D-4070-99B9-F007E7C4D472         5.093316         3.800607   \n",
       "1329E1C1-743E-4541-9081-165572D4BF47         3.480703         0.776383   \n",
       "88BBA1BF-44E0-416E-A028-04F410A3FE5D         4.369268         2.927849   \n",
       "\n",
       "                                      ENSG00000283439  ENSG00000283463  \\\n",
       "Unnamed: 0                                                               \n",
       "1576BB97-F8EA-48FF-9494-EBC7A0C97312        -7.278265         4.672536   \n",
       "63F4281A-4D90-4589-879E-549097FB3459        -5.425877         4.560829   \n",
       "74CF740D-201D-4070-99B9-F007E7C4D472        -5.259782         4.966710   \n",
       "1329E1C1-743E-4541-9081-165572D4BF47        -0.999629         4.794226   \n",
       "88BBA1BF-44E0-416E-A028-04F410A3FE5D         0.791397         4.542333   \n",
       "\n",
       "                                      ENSG00000283526  ENSG00000283586  \\\n",
       "Unnamed: 0                                                               \n",
       "1576BB97-F8EA-48FF-9494-EBC7A0C97312         5.153675        -7.278265   \n",
       "63F4281A-4D90-4589-879E-549097FB3459         3.735085        -5.425877   \n",
       "74CF740D-201D-4070-99B9-F007E7C4D472         2.829487        -5.259782   \n",
       "1329E1C1-743E-4541-9081-165572D4BF47        -5.399485        -5.399485   \n",
       "88BBA1BF-44E0-416E-A028-04F410A3FE5D         4.628775        -5.539710   \n",
       "\n",
       "                                      ENSG00000283632  ENSG00000283697  \n",
       "Unnamed: 0                                                              \n",
       "1576BB97-F8EA-48FF-9494-EBC7A0C97312         4.843800         4.302864  \n",
       "63F4281A-4D90-4589-879E-549097FB3459         4.105789         4.803357  \n",
       "74CF740D-201D-4070-99B9-F007E7C4D472         5.118704         5.024979  \n",
       "1329E1C1-743E-4541-9081-165572D4BF47         4.660878         4.684343  \n",
       "88BBA1BF-44E0-416E-A028-04F410A3FE5D         4.812787         4.524834  \n",
       "\n",
       "[5 rows x 17970 columns]"
      ]
     },
     "execution_count": 10,
     "metadata": {},
     "output_type": "execute_result"
    }
   ],
   "source": [
    "#setting the indexes and viewing the dataset\n",
    "test_X.set_index('Unnamed: 0', inplace=True)\n",
    "test_X.head()"
   ]
  },
  {
   "cell_type": "markdown",
   "metadata": {},
   "source": [
    "A) Standardizing Data\n",
    "\n",
    "When scaling our training and test data, it is important that the same scaling parameters that were learned from the training data are applied to the test data. This ensures that the test data is scaled consistently with the training data. This consistency is essential for accurate and reliable model predictions on new, unseen data."
   ]
  },
  {
   "cell_type": "code",
   "execution_count": 11,
   "metadata": {},
   "outputs": [],
   "source": [
    "#preparing our data by standardizing it\n",
    "from sklearn.preprocessing import StandardScaler\n",
    "scaler = StandardScaler() \n",
    "\n",
    "Train_X = scaler.fit_transform(train_X)\n",
    "Test_X = scaler.transform(test_X)"
   ]
  },
  {
   "cell_type": "markdown",
   "metadata": {},
   "source": [
    "B) Creating Validation Sets to test our Training Data"
   ]
  },
  {
   "cell_type": "code",
   "execution_count": 12,
   "metadata": {},
   "outputs": [],
   "source": [
    "#splitting the data into 80% for training and 20% for validation\n",
    "from sklearn.model_selection import train_test_split\n",
    "Train_X, Valid_X, Train_Y, Valid_Y = train_test_split(Train_X, train_Y, test_size=0.2, random_state=42)"
   ]
  },
  {
   "cell_type": "markdown",
   "metadata": {},
   "source": [
    "C) Converting our target variable to one dimensional arrays\n",
    "\n",
    "This conversion is often necessary as many machine learning libraries and models expect one-dimensional target arrays."
   ]
  },
  {
   "cell_type": "code",
   "execution_count": 13,
   "metadata": {},
   "outputs": [],
   "source": [
    "#transforming the Y variable into a one-dimensional array \n",
    "Train_Y = Train_Y.values.ravel()\n",
    "Valid_Y = Valid_Y.values.ravel()"
   ]
  },
  {
   "cell_type": "markdown",
   "metadata": {},
   "source": [
    "### Section 2: Performing binary classification using different linear models (linear regression, logistic regression, ridge regression, LASSO, etc.)\n",
    "\n",
    "We will be searching for the best hyperparameters to be used for each model that gives us the maximum F1 score. "
   ]
  },
  {
   "cell_type": "markdown",
   "metadata": {},
   "source": [
    "#### A) Linear Regression Model"
   ]
  },
  {
   "cell_type": "code",
   "execution_count": 35,
   "metadata": {},
   "outputs": [
    {
     "name": "stdout",
     "output_type": "stream",
     "text": [
      "Best Parameters {'normalize': False, 'fit_intercept': True}\n",
      "Best Cutoff Value: 0.5\n",
      "Best Accuracy: 0.8539325842696629\n",
      "Best F1 Score: 0.8712871287128713\n"
     ]
    }
   ],
   "source": [
    "model = LinearRegression()\n",
    "\n",
    "# Define the hyperparameter grid to search over\n",
    "param_grid = {\n",
    "    'fit_intercept': [True, False],  \n",
    "    'normalize': [True, False]  \n",
    "}\n",
    "\n",
    "# Create a RandomizedSearchCV object\n",
    "random_search = RandomizedSearchCV(model, param_distributions=param_grid, n_iter=100, cv=5, scoring='neg_mean_squared_error', random_state=42)\n",
    "\n",
    "# Fit the RandomizedSearchCV object to your training data\n",
    "random_search.fit(Train_X, Train_Y)\n",
    "\n",
    "# Get the best hyperparameters\n",
    "best_params = random_search.best_params_\n",
    "print(\"Best Parameters\", best_params)\n",
    "\n",
    "# Get the best estimator (model)\n",
    "linear_model = random_search.best_estimator_\n",
    "\n",
    "# Predict probabilities using the linear regression model\n",
    "y_pred = linear_model.predict(Valid_X)\n",
    "\n",
    "#Define a range of potential cutoff values\n",
    "cutoff_values = np.arange(0.1, 1.0, 0.1)\n",
    "\n",
    "# Initialize variables to store best cutoff, best F1 score, and best accuracy\n",
    "best_cutoff_linear = None\n",
    "best_f1_linear = 0\n",
    "best_accuracy_linear = 0\n",
    "\n",
    "for cutoff in cutoff_values:\n",
    "    # Apply the cutoff threshold to predict class labels\n",
    "    predicted_class = (y_pred > cutoff).astype(int)\n",
    "    \n",
    "    # Calculate the F1 score\n",
    "    f1 = f1_score(Valid_Y, predicted_class)\n",
    "    \n",
    "    # Calculate the accuracy\n",
    "    accuracy = accuracy_score(Valid_Y, predicted_class)\n",
    "\n",
    "# Update best cutoff if F1 score or accuracy is higher    \n",
    "    if f1 > best_f1_linear:\n",
    "        best_cutoff_linear = cutoff\n",
    "        best_f1_linear = f1\n",
    "        best_accuracy_linear = accuracy\n",
    "        \n",
    "# Print the best cutoff, best F1 score, and best accuracy\n",
    "print(\"Best Cutoff Value:\", best_cutoff_linear)\n",
    "print(\"Best Accuracy:\", best_accuracy_linear)\n",
    "print(\"Best F1 Score:\", best_f1_linear)"
   ]
  },
  {
   "cell_type": "markdown",
   "metadata": {},
   "source": [
    "From the above output, we can see that the best hyperparameters for a linear regression model are the default values itself, and when the cutoff value is above 0.5"
   ]
  },
  {
   "cell_type": "markdown",
   "metadata": {},
   "source": [
    "#### B) Ridge Regression (Logistic Regression with L2 Regularization Technique)"
   ]
  },
  {
   "cell_type": "markdown",
   "metadata": {},
   "source": [
    "B1: Choosing the best solver for Ridge Model and this dataset:\n",
    "\n",
    "It is important for us to experiment with different solvers and evaluate their performance on our specific dataset to determine the most appropriate one. Factors such as the dataset size, the number of features, and the level of regularization needed can influence our choice of solver. "
   ]
  },
  {
   "cell_type": "code",
   "execution_count": 13,
   "metadata": {},
   "outputs": [
    {
     "name": "stdout",
     "output_type": "stream",
     "text": [
      "Logistic Regression (L2) - F1 Score: 0.8518465035681679 (+/- 0.046095103658701744)\n",
      "Logistic Regression (L2) - F1 Score: 0.790504336517991 (+/- 0.06914075736093964)\n",
      "Logistic Regression (L2) - F1 Score: 0.8518465035681679 (+/- 0.046095103658701744)\n",
      "Logistic Regression (L2) - F1 Score: 0.8067600742128226 (+/- 0.06448708559479618)\n"
     ]
    }
   ],
   "source": [
    "from sklearn.model_selection import cross_val_score\n",
    "\n",
    "# Models to evaluate\n",
    "models = [\n",
    "    ('Logistic Regression (L2)', LogisticRegression(penalty='l2', solver='lbfgs', random_state=42)),\n",
    "    ('Logistic Regression (L2)', LogisticRegression(penalty='l2', solver='liblinear', random_state=42)),\n",
    "    ('Logistic Regression (L2)', LogisticRegression(penalty='l2', solver='newton-cg', random_state=42)),\n",
    "    ('Logistic Regression (L2)', LogisticRegression(penalty='l2', solver='saga', random_state=42)) \n",
    "\n",
    "]\n",
    "# Evaluate each model\n",
    "for model_name, model in models:\n",
    "    scores = cross_val_score(model, Train_X, Train_Y, cv=5, scoring='f1')\n",
    "    print(f'{model_name} - F1 Score: {np.mean(scores)} (+/- {np.std(scores)})')"
   ]
  },
  {
   "cell_type": "markdown",
   "metadata": {},
   "source": [
    "From the above output, we can see that lbfgs or newton-cg are the the best solvers for this datset, both giving the same exact F1 Score."
   ]
  },
  {
   "cell_type": "markdown",
   "metadata": {},
   "source": [
    "B2: Choosing the best C value for both the solvers"
   ]
  },
  {
   "cell_type": "code",
   "execution_count": 58,
   "metadata": {},
   "outputs": [
    {
     "name": "stdout",
     "output_type": "stream",
     "text": [
      "Best C for Logistic Regression: 0.1\n",
      "Best Accuracy on Validation Set for Logistic Regression: 0.8651685393258427\n",
      "Best F1 Score on Validation Set for Logistic Regression: 0.8846153846153846\n"
     ]
    }
   ],
   "source": [
    "#trying for lbfgs solver first\n",
    "c_values = [0.1, 0.3, 0.5, 0.7, 1, 3, 5, 7, 10]\n",
    "\n",
    "# Initialize variables to store the best hyperparameters and scores for L1 penalty\n",
    "best_c_log = None\n",
    "best_accuracy_log = 0.0\n",
    "best_f1_log = 0.0\n",
    "\n",
    "# Iterate through the range of C values\n",
    "for c in c_values:\n",
    "    # Create a logistic regression model with L1 penalty and the current C value\n",
    "    model = LogisticRegression(C=c, solver='lbfgs', random_state=42)\n",
    "\n",
    "    # Train the model on the training data\n",
    "    model.fit(Train_X, Train_Y)\n",
    "\n",
    "    # Make predictions on the validation set\n",
    "    y_pred = model.predict(Valid_X)\n",
    "\n",
    "    # Compute accuracy and F1 score on the validation set\n",
    "    accuracy = accuracy_score(Valid_Y, y_pred)\n",
    "    f1 = f1_score(Valid_Y, y_pred)\n",
    "    \n",
    "    # Check if the current model has better performance\n",
    "    if f1 > best_f1_log:\n",
    "        best_c_log = c\n",
    "        best_accuracy_log = accuracy\n",
    "        best_f1_log = f1\n",
    "\n",
    "# Print the best hyperparameters and scores for L1 penalty\n",
    "print(\"Best C for Logistic Regression:\", best_c_log)\n",
    "print(\"Best Accuracy on Validation Set for Logistic Regression:\", best_accuracy_log)\n",
    "print(\"Best F1 Score on Validation Set for Logistic Regression:\", best_f1_log)"
   ]
  },
  {
   "cell_type": "code",
   "execution_count": 61,
   "metadata": {},
   "outputs": [
    {
     "name": "stdout",
     "output_type": "stream",
     "text": [
      "Best C for Logistic Regression: 0.1\n",
      "Best Accuracy on Validation Set for Logistic Regression: 0.8651685393258427\n",
      "Best F1 Score on Validation Set for Logistic Regression: 0.8846153846153846\n"
     ]
    }
   ],
   "source": [
    "#trying for newton-cg solver next\n",
    "c_values = [0.1, 0.3, 0.5, 0.7, 1, 3, 5, 7, 10]\n",
    "\n",
    "# Initialize variables to store the best hyperparameters and scores for L1 penalty\n",
    "best_c_log = None\n",
    "best_accuracy_log = 0.0\n",
    "best_f1_log = 0.0\n",
    "ridgeaccuracy_scores = []\n",
    "ridgef1_scores = []\n",
    "\n",
    "# Iterate through the range of C values\n",
    "for c in c_values:\n",
    "    # Create a logistic regression model with L1 penalty and the current C value\n",
    "    model = LogisticRegression(C=c, solver='newton-cg', random_state=42)\n",
    "\n",
    "    # Train the model on the training data\n",
    "    model.fit(Train_X, Train_Y)\n",
    "\n",
    "    # Make predictions on the validation set\n",
    "    y_pred = model.predict(Valid_X)\n",
    "\n",
    "    # Compute accuracy and F1 score on the validation set\n",
    "    accuracy = accuracy_score(Valid_Y, y_pred)\n",
    "    f1 = f1_score(Valid_Y, y_pred)\n",
    "    ridgeaccuracy_scores.append(accuracy)\n",
    "    ridgef1_scores.append(f1)\n",
    "    \n",
    "    # Check if the current model has better performance\n",
    "    if f1 > best_f1_log:\n",
    "        best_c_log = c\n",
    "        best_accuracy_log = accuracy\n",
    "        best_f1_log = f1\n",
    "\n",
    "# Print the best hyperparameters and scores for L1 penalty\n",
    "print(\"Best C for Logistic Regression:\", best_c_log)\n",
    "print(\"Best Accuracy on Validation Set for Logistic Regression:\", best_accuracy_log)\n",
    "print(\"Best F1 Score on Validation Set for Logistic Regression:\", best_f1_log)"
   ]
  },
  {
   "cell_type": "markdown",
   "metadata": {},
   "source": [
    "From the above output, we can confirm that the best model fit with ridge regression is produced is when c = 0.1 for both models"
   ]
  },
  {
   "cell_type": "markdown",
   "metadata": {},
   "source": [
    "B3: Studying the effect of regularization parameter(\"c\") on our ridge model performance"
   ]
  },
  {
   "cell_type": "code",
   "execution_count": 63,
   "metadata": {},
   "outputs": [
    {
     "data": {
      "image/png": "[encoded data removed]",
      "text/plain": [
       "<Figure size 720x432 with 1 Axes>"
      ]
     },
     "metadata": {
      "needs_background": "light"
     },
     "output_type": "display_data"
    }
   ],
   "source": [
    "import matplotlib.pyplot as plt\n",
    "\n",
    "plt.figure(figsize=(10, 6))\n",
    "plt.plot(c_values, ridgeaccuracy_scores, label='Accuracy', marker='o')\n",
    "plt.plot(c_values, ridgef1_scores, label='F1 Score', marker='o')\n",
    "plt.xlabel('Regularization Parameter (C)')\n",
    "plt.ylabel('Performance Metric')\n",
    "plt.legend()\n",
    "plt.title('Effect of Regularization Parameters on Ridge Model Performance')\n",
    "plt.show()"
   ]
  },
  {
   "cell_type": "markdown",
   "metadata": {},
   "source": [
    "The above plot shows and confirms that c=0.1 gives us the best f1 and accuracy score. "
   ]
  },
  {
   "cell_type": "markdown",
   "metadata": {},
   "source": [
    "B4: Choosing the best maximum number of iterations for our ridge model"
   ]
  },
  {
   "cell_type": "code",
   "execution_count": 59,
   "metadata": {},
   "outputs": [
    {
     "name": "stdout",
     "output_type": "stream",
     "text": [
      "Best Max for Logistic Regression: 100\n",
      "Best Accuracy on Validation Set for Logistic Regression: 0.8651685393258427\n",
      "Best F1 Score on Validation Set for Logistic Regression: 0.8846153846153846\n"
     ]
    }
   ],
   "source": [
    "#trying for lbfgs solver first\n",
    "max_values = [100,200,300,400,500]\n",
    "\n",
    "# Initialize variables to store the best hyperparameters and scores for L1 penalty\n",
    "best_max_ridge = None\n",
    "best_accuracy_ridge = 0.0\n",
    "best_f1_ridge = 0.0\n",
    "\n",
    "# Iterate through the range of C values\n",
    "for max in max_values:\n",
    "    # Create a logistic regression model with L1 penalty and the current C value\n",
    "    ridgemodel = LogisticRegression(C=0.1, solver='lbfgs', random_state=42, max_iter=max)\n",
    "\n",
    "    # Train the model on the training data\n",
    "    ridgemodel.fit(Train_X, Train_Y)\n",
    "\n",
    "    # Make predictions on the validation set\n",
    "    y_pred = ridgemodel.predict(Valid_X)\n",
    "\n",
    "    # Compute accuracy and F1 score on the validation set\n",
    "    accuracy = accuracy_score(Valid_Y, y_pred)\n",
    "    f1 = f1_score(Valid_Y, y_pred)\n",
    "    \n",
    "    # Check if the current model has better performance\n",
    "    if f1 > best_f1_ridge:\n",
    "        best_max_ridge = max\n",
    "        best_accuracy_ridge = accuracy\n",
    "        best_f1_ridge = f1\n",
    "\n",
    "# Print the best hyperparameters and scores for L1 penalty\n",
    "print(\"Best Max for Logistic Regression:\", best_max_ridge)\n",
    "print(\"Best Accuracy on Validation Set for Logistic Regression:\", best_accuracy_ridge)\n",
    "print(\"Best F1 Score on Validation Set for Logistic Regression:\", best_f1_ridge)"
   ]
  },
  {
   "cell_type": "code",
   "execution_count": 22,
   "metadata": {},
   "outputs": [
    {
     "name": "stdout",
     "output_type": "stream",
     "text": [
      "Best Max for Logistic Regression: 100\n",
      "Best Accuracy on Validation Set for Logistic Regression: 0.8651685393258427\n",
      "Best F1 Score on Validation Set for Logistic Regression: 0.8846153846153846\n"
     ]
    }
   ],
   "source": [
    "#trying for newton-cg solver next\n",
    "max_values = [100,200,300,400,500]\n",
    "\n",
    "# Initialize variables to store the best hyperparameters and scores for L1 penalty\n",
    "best_max_log = None\n",
    "best_accuracy_log = 0.0\n",
    "best_f1_log = 0.0\n",
    "\n",
    "# Iterate through the range of C values\n",
    "for max in max_values:\n",
    "    # Create a logistic regression model with L1 penalty and the current C value\n",
    "    model = LogisticRegression(C=0.1, solver='newton-cg', random_state=42, max_iter=max)\n",
    "\n",
    "    # Train the model on the training data\n",
    "    model.fit(Train_X, Train_Y)\n",
    "\n",
    "    # Make predictions on the validation set\n",
    "    y_pred = model.predict(Valid_X)\n",
    "\n",
    "    # Compute accuracy and F1 score on the validation set\n",
    "    accuracy = accuracy_score(Valid_Y, y_pred)\n",
    "    f1 = f1_score(Valid_Y, y_pred)\n",
    "    \n",
    "    # Check if the current model has better performance\n",
    "    if f1 > best_f1_log:\n",
    "        best_max_log = max\n",
    "        best_accuracy_log = accuracy\n",
    "        best_f1_log = f1\n",
    "\n",
    "# Print the best hyperparameters and scores for L1 penalty\n",
    "print(\"Best Max for Logistic Regression:\", best_max_log)\n",
    "print(\"Best Accuracy on Validation Set for Logistic Regression:\", best_accuracy_log)\n",
    "print(\"Best F1 Score on Validation Set for Logistic Regression:\", best_f1_log)"
   ]
  },
  {
   "cell_type": "markdown",
   "metadata": {},
   "source": [
    "This confirms that 100 is a good maximum number of iterations (the default value) to have and that the value of max iterations does not affect the score. "
   ]
  },
  {
   "cell_type": "markdown",
   "metadata": {},
   "source": [
    "B5: Using Hyperparameter Grid and Cross Validation to reconfirm the best hyperparameters we have found for ridge regression "
   ]
  },
  {
   "cell_type": "code",
   "execution_count": 278,
   "metadata": {},
   "outputs": [
    {
     "name": "stdout",
     "output_type": "stream",
     "text": [
      "Best C for Ridge Regression: 2\n",
      "Best Solver for Ridge Regression: newton-cg\n",
      "Best Max Iterations for Ridge Regression: 100\n",
      "Best Accuracy on Validation Set for Ridge Regression: 0.8539325842696629\n",
      "Best F1 Score on Validation Set for Ridge Regression: 0.8737864077669903\n"
     ]
    }
   ],
   "source": [
    "# Define the hyperparameter grid for C values\n",
    "param_grid = {\n",
    "    'C': [0.1, 0.5, 1, 2, 5, 10],\n",
    "    'solver': ['liblinear', 'newton-cg', 'lbfgs', 'sag', 'saga'],\n",
    "    'max_iter': [100, 200, 300, 400, 500],\n",
    "}\n",
    "\n",
    "# Create a Logistic Regression model\n",
    "model = LogisticRegression(penalty='l2', random_state=42)\n",
    "\n",
    "# Create a RandomizedSearchCV object\n",
    "random_search = RandomizedSearchCV(model, param_distributions=param_grid, n_iter=100, cv=5, scoring='f1', random_state=42)\n",
    "\n",
    "# Fit the RandomizedSearchCV object to your training data\n",
    "random_search.fit(Train_X, Train_Y)\n",
    "\n",
    "# Get the best hyperparameters\n",
    "best_params = random_search.best_params_\n",
    "\n",
    "# Get the best estimator (model)\n",
    "ridge_model = random_search.best_estimator_\n",
    "\n",
    "# Make predictions on the validation set using the best model\n",
    "y_pred = ridge_model.predict(Valid_X)\n",
    "\n",
    "# Compute accuracy and F1 score on the validation set\n",
    "accuracy_ridge = accuracy_score(Valid_Y, y_pred)\n",
    "f1_ridge = f1_score(Valid_Y, y_pred)\n",
    "\n",
    "# Print the best hyperparameters and scores\n",
    "print(\"Best C for Ridge Regression:\", best_params['C'])\n",
    "print(\"Best Solver for Ridge Regression:\", best_params['solver'])\n",
    "print(\"Best Max Iterations for Ridge Regression:\", best_params['max_iter']) \n",
    "\n",
    "print(\"Best Accuracy on Validation Set for Ridge Regression:\", accuracy_ridge)\n",
    "print(\"Best F1 Score on Validation Set for Ridge Regression:\", f1_ridge)"
   ]
  },
  {
   "cell_type": "markdown",
   "metadata": {},
   "source": [
    "From our Paramameter Search, we can see that the best combination of parameters actually gives us a lower F1 score than what we had found previously. Since our goal is to maximise our F1 Score, we will be retaining our original findings for the purpose of this assignment. "
   ]
  },
  {
   "cell_type": "markdown",
   "metadata": {},
   "source": [
    "#### C) Lasso Regression (Logistic Regression with L1 Regularization Technique)"
   ]
  },
  {
   "cell_type": "markdown",
   "metadata": {},
   "source": [
    "C1: Choosing the best solver for Lasso Model and this dataset:\n",
    "\n",
    "It is important for us to experiment with different solvers and evaluate their performance on our specific dataset to determine the most appropriate one. Factors such as the dataset size, the number of features, and the level of regularization needed can influence our choice of solver. "
   ]
  },
  {
   "cell_type": "code",
   "execution_count": 39,
   "metadata": {},
   "outputs": [
    {
     "name": "stdout",
     "output_type": "stream",
     "text": [
      "Logistic Regression (L1) - F1 Score: 0.8095040349069169 (+/- 0.07228890657528413)\n",
      "Logistic Regression (L1) - F1 Score: 0.8061247727070512 (+/- 0.05704131823073624)\n"
     ]
    }
   ],
   "source": [
    "from sklearn.model_selection import cross_val_score\n",
    "\n",
    "# Models to evaluate\n",
    "models = [\n",
    "    ('Logistic Regression (L1)', LogisticRegression(penalty='l1', solver='liblinear', random_state=42)),\n",
    "    ('Logistic Regression (L1)', LogisticRegression(penalty='l1', solver='saga', random_state=42)) \n",
    "\n",
    "]\n",
    "# Evaluate each model\n",
    "for model_name, model in models:\n",
    "    scores = cross_val_score(model, Train_X, Train_Y, cv=5, scoring='f1')\n",
    "    print(f'{model_name} - F1 Score: {np.mean(scores)} (+/- {np.std(scores)})')"
   ]
  },
  {
   "cell_type": "markdown",
   "metadata": {},
   "source": [
    "Given the F1 Score, we can confirm that \"liblinear\" solver produces a better model as its F1 Score is higher. Hence, we will be using \"liblinear\" for our Lasso Model."
   ]
  },
  {
   "cell_type": "markdown",
   "metadata": {},
   "source": [
    "C2: Choosing the best C value for our \"liblinear\" solver"
   ]
  },
  {
   "cell_type": "code",
   "execution_count": 66,
   "metadata": {},
   "outputs": [
    {
     "name": "stdout",
     "output_type": "stream",
     "text": [
      "Best C for L1 Penalty: 10\n",
      "Best Accuracy on Validation Set for L1 Regression: 0.8202247191011236\n",
      "Best F1 Score on Validation Set for L1 Regression: 0.8431372549019608\n"
     ]
    }
   ],
   "source": [
    "c_values = [0.1, 0.3, 0.5, 0.7, 1, 3, 5, 7, 10]\n",
    "\n",
    "# Initialize variables to store the best hyperparameters and scores for L1 penalty\n",
    "best_c_l1 = None\n",
    "best_accuracy_l1 = 0.0\n",
    "best_f1_l1 = 0.0\n",
    "lassoaccuracy_scores = []\n",
    "lassof1_scores = []\n",
    "\n",
    "# Iterate through the range of C values\n",
    "for c in c_values:\n",
    "    # Create a logistic regression model with L1 penalty and the current C value\n",
    "    model = LogisticRegression(C=c, penalty='l1', random_state=42, solver=\"liblinear\")\n",
    "\n",
    "    # Train the model on the training data\n",
    "    model.fit(Train_X, Train_Y)\n",
    "\n",
    "    # Make predictions on the validation set\n",
    "    y_pred = model.predict(Valid_X)\n",
    "\n",
    "    # Compute accuracy and F1 score on the validation set\n",
    "    accuracy_lasso = accuracy_score(Valid_Y, y_pred)\n",
    "    f1_lasso = f1_score(Valid_Y, y_pred)\n",
    "    lassoaccuracy_scores.append(accuracy_lasso)\n",
    "    lassof1_scores.append(f1_lasso)\n",
    "\n",
    "    # Check if the current model has better performance\n",
    "    if f1_lasso > best_f1_l1:\n",
    "        best_c_l1 = c\n",
    "        best_accuracy_l1 = accuracy_lasso\n",
    "        best_f1_l1 = f1_lasso\n",
    "\n",
    "# Print the best hyperparameters and scores for L1 penalty\n",
    "print(\"Best C for L1 Penalty:\", best_c_l1)\n",
    "print(\"Best Accuracy on Validation Set for L1 Regression:\", best_accuracy_l1)\n",
    "print(\"Best F1 Score on Validation Set for L1 Regression:\", best_f1_l1)"
   ]
  },
  {
   "cell_type": "markdown",
   "metadata": {},
   "source": [
    "C3: Studying the effect of regularization parameter(\"c\") on our lasso model performance"
   ]
  },
  {
   "cell_type": "code",
   "execution_count": 67,
   "metadata": {},
   "outputs": [
    {
     "data": {
      "image/png": "[encoded data removed]",
      "text/plain": [
       "<Figure size 720x432 with 1 Axes>"
      ]
     },
     "metadata": {
      "needs_background": "light"
     },
     "output_type": "display_data"
    }
   ],
   "source": [
    "plt.figure(figsize=(10, 6))\n",
    "plt.plot(c_values, lassoaccuracy_scores, label='Accuracy', marker='o')\n",
    "plt.plot(c_values, lassof1_scores, label='F1 Score', marker='o')\n",
    "plt.xlabel('Regularization Parameter (C)')\n",
    "plt.ylabel('Performance Metric')\n",
    "plt.legend()\n",
    "plt.title('Effect of Regularization Parameter on Lasso Model Performance')\n",
    "plt.show()"
   ]
  },
  {
   "cell_type": "markdown",
   "metadata": {},
   "source": [
    "The above plot shows and confirms that c=10 gives us the best f1 and accuracy score."
   ]
  },
  {
   "cell_type": "markdown",
   "metadata": {},
   "source": [
    "C4: Choosing the best maximum number of iterations for our lasso model"
   ]
  },
  {
   "cell_type": "code",
   "execution_count": 54,
   "metadata": {},
   "outputs": [
    {
     "name": "stdout",
     "output_type": "stream",
     "text": [
      "Best Max for L1 Penalty: 100\n",
      "Best Accuracy on Validation Set for L1 Regression: 0.8202247191011236\n",
      "Best F1 Score on Validation Set for L1 Regression: 0.8431372549019608\n"
     ]
    }
   ],
   "source": [
    "max_values = [100,300,500,700,1000]\n",
    "\n",
    "# Initialize variables to store the best hyperparameters and scores for L1 penalty\n",
    "best_max_lasso = None\n",
    "best_accuracy_lasso = 0.0\n",
    "best_f1_lasso = 0.0\n",
    "\n",
    "# Iterate through the range of C values\n",
    "for max in max_values:\n",
    "    # Create a logistic regression model with L1 penalty and the current C value\n",
    "    model = LogisticRegression(C=10, penalty='l1', random_state=42, solver=\"liblinear\")\n",
    "\n",
    "    # Train the model on the training data\n",
    "    model.fit(Train_X, Train_Y)\n",
    "\n",
    "    # Make predictions on the validation set\n",
    "    y_pred = model.predict(Valid_X)\n",
    "\n",
    "    # Compute accuracy and F1 score on the validation set\n",
    "    accuracy_lasso = accuracy_score(Valid_Y, y_pred)\n",
    "    f1_lasso = f1_score(Valid_Y, y_pred)\n",
    "\n",
    "    # Check if the current model has better performance\n",
    "    if f1_lasso > best_f1_lasso:\n",
    "        best_max_lasso = max\n",
    "        best_accuracy_lasso = accuracy_lasso\n",
    "        best_f1_lasso = f1_lasso\n",
    "\n",
    "# Print the best hyperparameters and scores for L1 penalty\n",
    "print(\"Best Max for L1 Penalty:\", best_max_lasso)\n",
    "print(\"Best Accuracy on Validation Set for L1 Regression:\", best_accuracy_lasso)\n",
    "print(\"Best F1 Score on Validation Set for L1 Regression:\", best_f1_lasso)"
   ]
  },
  {
   "cell_type": "markdown",
   "metadata": {},
   "source": [
    "This confirms that 100 is a good maximum number of iterations (the default value) to have and that the value of max iterations does not affect the score. "
   ]
  },
  {
   "cell_type": "markdown",
   "metadata": {},
   "source": [
    "C5: Using Hyperparameter Grid and Cross Validation to reconfirm the best hyperparameters we have found for lasso regression "
   ]
  },
  {
   "cell_type": "code",
   "execution_count": 46,
   "metadata": {},
   "outputs": [
    {
     "name": "stdout",
     "output_type": "stream",
     "text": [
      "Best C for Logistic Regression: 5\n",
      "Best Max Iterations for Logistic Regression: 100\n",
      "Best Accuracy on Validation Set for Logistic Regression: 0.7865168539325843\n",
      "Best F1 Score on Validation Set for Logistic Regression: 0.8155339805825242\n"
     ]
    }
   ],
   "source": [
    "from sklearn.model_selection import GridSearchCV\n",
    "\n",
    "# Define the hyperparameter grid for C values\n",
    "param_grid = {\n",
    "    'C': [0.1, 0.3, 0.5, 0.7, 1, 3, 5, 7, 10],\n",
    "    'max_iter': [100, 200, 300, 400, 500],\n",
    "}\n",
    "\n",
    "# Create a Logistic Regression model\n",
    "lasso_model = LogisticRegression(penalty='l1', solver='liblinear', random_state=42)\n",
    "\n",
    "# Create a GridSearchCV object\n",
    "grid_search = GridSearchCV(model, param_grid=param_grid, cv=5, scoring='f1')\n",
    "\n",
    "# Fit the GridSearchCV object to your training data\n",
    "grid_search.fit(Train_X, Train_Y)\n",
    "\n",
    "# Get the best hyperparameters\n",
    "best_params = grid_search.best_params_\n",
    "\n",
    "# Get the best estimator (model)\n",
    "lasso_model = grid_search.best_estimator_\n",
    "\n",
    "# Make predictions on the validation set using the best model\n",
    "y_pred = lasso_model.predict(Valid_X)\n",
    "\n",
    "# Compute accuracy and F1 score on the validation set\n",
    "accuracy_lasso = accuracy_score(Valid_Y, y_pred)\n",
    "f1_lasso = f1_score(Valid_Y, y_pred)\n",
    "\n",
    "# Print the best hyperparameters and scores\n",
    "print(\"Best C for Logistic Regression:\", best_params['C'])\n",
    "print(\"Best Max Iterations for Logistic Regression:\", best_params['max_iter']) \n",
    "\n",
    "print(\"Best Accuracy on Validation Set for Logistic Regression:\", accuracy_lasso)\n",
    "print(\"Best F1 Score on Validation Set for Logistic Regression:\", f1_lasso)"
   ]
  },
  {
   "cell_type": "markdown",
   "metadata": {},
   "source": [
    "From our Paramameter Search, we can see that the best combination of parameters actually gives us a lower F1 score than what we had found previously. Since our goal is to maximise our F1 Score, we will be retaining our original findings for the purpose of this assignment. \n"
   ]
  },
  {
   "cell_type": "markdown",
   "metadata": {},
   "source": [
    "#### D) Elastic-Net Regression"
   ]
  },
  {
   "cell_type": "markdown",
   "metadata": {},
   "source": [
    "D1: Choosing the best solver for Elastic-Net Model and this dataset:\n",
    "\n",
    "For elastic-net regression, the 'saga' solver is the only solver that supports both L1 and L2 penalties. Hence, we will be using it as our default solver. \n"
   ]
  },
  {
   "cell_type": "markdown",
   "metadata": {},
   "source": [
    "D2: Choosing the best C and L1 ratio values for our \"saga\" solver"
   ]
  },
  {
   "cell_type": "code",
   "execution_count": 281,
   "metadata": {},
   "outputs": [
    {
     "name": "stdout",
     "output_type": "stream",
     "text": [
      "Best C for Elastic Net Penalty: 0.1\n",
      "Best l1_ratio for Elastic Net Penalty: 0.5\n",
      "Best Accuracy on Validation Set for Elastic Net: 0.8089887640449438\n",
      "Best F1 Score on Validation Set for Elastic Net: 0.8282828282828283\n"
     ]
    }
   ],
   "source": [
    "c_values = [0.1, 0.3, 0.5, 0.7, 1, 3, 5, 7, 10]\n",
    "l1_ratio_values = [0.1, 0.3, 0.5, 0.7, 0.9]\n",
    "\n",
    "# Initialize variables to store the best hyperparameters and scores for Elastic Net\n",
    "best_c_elastic = None\n",
    "best_l1_ratio_elastic = None\n",
    "best_accuracy_elastic = 0.0\n",
    "best_f1_elastic = 0.0\n",
    "elasticaccuracy_scores = []\n",
    "elasticf1_scores = []\n",
    "\n",
    "# Iterate through the range of C values and l1_ratio values\n",
    "for c in c_values:\n",
    "    for l1_ratio in l1_ratio_values:\n",
    "        # Create a logistic regression model with Elastic Net penalty and the current C and l1_ratio values\n",
    "        model = LogisticRegression(C=c, penalty='elasticnet', random_state=42, solver=\"saga\", l1_ratio=l1_ratio)\n",
    "\n",
    "        # Train the model on the training data\n",
    "        model.fit(Train_X, Train_Y)\n",
    "\n",
    "        # Make predictions on the validation set\n",
    "        y_pred = model.predict(Valid_X)\n",
    "\n",
    "        # Compute accuracy and F1 score on the validation set\n",
    "        accuracy_elastic = accuracy_score(Valid_Y, y_pred)\n",
    "        f1_elastic = f1_score(Valid_Y, y_pred)\n",
    "        elasticaccuracy_scores.append(accuracy_elastic)\n",
    "        elasticf1_scores.append(f1_elastic)\n",
    "\n",
    "\n",
    "        # Check if the current model has better performance\n",
    "        if f1_elastic > best_f1_elastic:\n",
    "            best_c_elastic = c\n",
    "            best_l1_ratio_elastic = l1_ratio\n",
    "            best_accuracy_elastic = accuracy_elastic\n",
    "            best_f1_elastic = f1_elastic\n",
    "\n",
    "# Print the best hyperparameters and scores for Elastic Net penalty\n",
    "print(\"Best C for Elastic Net Penalty:\", best_c_elastic)\n",
    "print(\"Best l1_ratio for Elastic Net Penalty:\", best_l1_ratio_elastic)\n",
    "print(\"Best Accuracy on Validation Set for Elastic Net:\", best_accuracy_elastic)\n",
    "print(\"Best F1 Score on Validation Set for Elastic Net:\", best_f1_elastic)"
   ]
  },
  {
   "cell_type": "markdown",
   "metadata": {},
   "source": [
    "D3: Studying the effect of regularization parameter(\"c\") on our elastic-net model performance"
   ]
  },
  {
   "cell_type": "code",
   "execution_count": 69,
   "metadata": {},
   "outputs": [
    {
     "data": {
      "image/png": "[encoded data removed]",
      "text/plain": [
       "<Figure size 720x432 with 1 Axes>"
      ]
     },
     "metadata": {
      "needs_background": "light"
     },
     "output_type": "display_data"
    }
   ],
   "source": [
    "plt.figure(figsize=(10, 6))\n",
    "plt.plot(c_values, elasticaccuracy_scores, label='Accuracy', marker='o')\n",
    "plt.plot(c_values, elasticf1_scores, label='F1 Score', marker='o')\n",
    "plt.xlabel('Regularization Parameter (C)')\n",
    "plt.ylabel('Performance Metric')\n",
    "plt.legend()\n",
    "plt.title('Effect of Regularization Parameter on Elastic-Net Model Performance')\n",
    "plt.show()"
   ]
  },
  {
   "cell_type": "markdown",
   "metadata": {},
   "source": [
    "The above plot shows and confirms that c=0.1 gives us the best f1 and accuracy score."
   ]
  },
  {
   "cell_type": "markdown",
   "metadata": {},
   "source": [
    "D4: Using Hyperparameter Grid and Cross Validation to reconfirm the best hyperparameters we have found for elastic-net regression "
   ]
  },
  {
   "cell_type": "code",
   "execution_count": 48,
   "metadata": {},
   "outputs": [
    {
     "name": "stdout",
     "output_type": "stream",
     "text": [
      "Best C for Elastic-Net Regression: 0.1\n",
      "Best L1 Ratio for Elastic-Net Regression: 0.3\n",
      "Best Accuracy on Validation Set for Elastic-Net Regression: 0.8089887640449438\n",
      "Best F1 Score on Validation Set for Elastic-Net Regression: 0.8247422680412373\n"
     ]
    }
   ],
   "source": [
    "from sklearn.model_selection import GridSearchCV\n",
    "\n",
    "# Define the hyperparameter grid for C values\n",
    "param_grid = {\n",
    "    'C': [0.1, 0.5, 1.0, 2.0, 5.0, 10.0],\n",
    "    'l1_ratio' : [0.1,0.3,0.5,0.7,0.9] ,\n",
    "}\n",
    "\n",
    "# Create a Logistic Regression model\n",
    "model = LogisticRegression(penalty='elasticnet', solver='saga', random_state=42)\n",
    "\n",
    "# Create a GridSearchCV object\n",
    "grid_search = GridSearchCV(model, param_grid=param_grid, cv=5, scoring='f1')\n",
    "\n",
    "# Fit the GridSearchCV object to your training data\n",
    "grid_search.fit(Train_X, Train_Y)\n",
    "\n",
    "# Get the best hyperparameters\n",
    "best_params = grid_search.best_params_\n",
    "\n",
    "# Get the best estimator (model)\n",
    "elastic_model = grid_search.best_estimator_\n",
    "\n",
    "# Make predictions on the validation set using the best model\n",
    "y_pred = elastic_model.predict(Valid_X)\n",
    "\n",
    "# Compute accuracy and F1 score on the validation set\n",
    "accuracy_elastic = accuracy_score(Valid_Y, y_pred)\n",
    "f1_elastic = f1_score(Valid_Y, y_pred)\n",
    "\n",
    "# Print the best hyperparameters and scores\n",
    "print(\"Best C for Elastic-Net Regression:\", best_params['C'])\n",
    "print(\"Best L1 Ratio for Elastic-Net Regression:\", best_params['l1_ratio']) \n",
    "\n",
    "print(\"Best Accuracy on Validation Set for Elastic-Net Regression:\", accuracy_elastic)\n",
    "print(\"Best F1 Score on Validation Set for Elastic-Net Regression:\", f1_elastic)"
   ]
  },
  {
   "cell_type": "markdown",
   "metadata": {},
   "source": [
    "### Section 3: Studying the effect of regularization parameter(s) on model performance\n",
    "\n",
    "We will be measuring the classification performance of the different models using accuracy and F1-score."
   ]
  },
  {
   "cell_type": "code",
   "execution_count": 70,
   "metadata": {},
   "outputs": [
    {
     "name": "stdout",
     "output_type": "stream",
     "text": [
      "                                     Model Type  Best Accuracy  Best F1 Score\n",
      "0                       Linear Regression Model       0.853933       0.871287\n",
      "1      Logistic Regression with L1 Penalty (L1)       0.820225       0.843137\n",
      "2      Logistic Regression with L2 Penalty (L2)       0.865169       0.884615\n",
      "3  Logistic Regression with Elastic-net Penalty       0.808989       0.828283\n"
     ]
    }
   ],
   "source": [
    "summary = [\n",
    "    ['Linear Regression Model', best_accuracy_linear, best_f1_linear],\n",
    "    ['Logistic Regression with L1 Penalty (L1)', best_accuracy_lasso, best_f1_lasso],\n",
    "    ['Logistic Regression with L2 Penalty (L2)', best_accuracy_ridge, best_f1_ridge],\n",
    "    ['Logistic Regression with Elastic-net Penalty', best_accuracy_elastic, best_f1_elastic],\n",
    "]\n",
    "\n",
    "columns = ['Model Type', 'Best Accuracy', 'Best F1 Score']\n",
    "\n",
    "summary = pd.DataFrame(summary, columns=columns)\n",
    "print(summary)"
   ]
  },
  {
   "cell_type": "code",
   "execution_count": 71,
   "metadata": {},
   "outputs": [
    {
     "name": "stdout",
     "output_type": "stream",
     "text": [
      "Maximum Accuracy is observed for:\n",
      "                                 Model Type  Best Accuracy  Best F1 Score\n",
      "2  Logistic Regression with L2 Penalty (L2)       0.865169       0.884615\n",
      "\n",
      "Maximum F1 Value is observed for:\n",
      "                                 Model Type  Best Accuracy  Best F1 Score\n",
      "2  Logistic Regression with L2 Penalty (L2)       0.865169       0.884615\n"
     ]
    }
   ],
   "source": [
    "max_value_Accuracy = summary['Best Accuracy'].max()\n",
    "row_max_Accuracy = summary[summary['Best Accuracy'] == max_value_Accuracy]\n",
    "\n",
    "max_value_f1 = summary['Best F1 Score'].max()\n",
    "row_max_f1 = summary[summary['Best F1 Score'] == max_value_f1]\n",
    "\n",
    "# Display the rows with the maximum values\n",
    "print(\"Maximum Accuracy is observed for:\")\n",
    "print(row_max_Accuracy)\n",
    "\n",
    "print(\"\\nMaximum F1 Value is observed for:\")\n",
    "print(row_max_f1)"
   ]
  },
  {
   "cell_type": "markdown",
   "metadata": {},
   "source": [
    "Both maximum accuracy and f1 score is observed for ridge regression. This is what we uploaded to Kaggle."
   ]
  },
  {
   "cell_type": "markdown",
   "metadata": {},
   "source": [
    "### Section 4: Comparing our best model accuracy with random guessing (through y-Randomization)\n",
    "\n",
    "We will be simulating random guessing by assinging classes to predictions purely based on chance. We will then calculate accuracy for random guessing (by counting how many of the random guesses are correct). "
   ]
  },
  {
   "cell_type": "code",
   "execution_count": 91,
   "metadata": {},
   "outputs": [
    {
     "name": "stdout",
     "output_type": "stream",
     "text": [
      "Accuracy of the Original Model: 0.8651685393258427\n",
      "Accuracy of the Randomized Model: 0.5393258426966292\n",
      "Percentage Difference: 60.42%\n",
      "The original model is 60.42% better than random guessing.\n"
     ]
    }
   ],
   "source": [
    "# Train and evaluate the original model\n",
    "original_model = LogisticRegression(C=0.1, penalty=\"l2\", solver='newton-cg', random_state=42)\n",
    "original_model.fit(Train_X, Train_Y)\n",
    "y_pred_original = original_model.predict(Valid_X)\n",
    "accuracy_original = accuracy_score(Valid_Y, y_pred_original)\n",
    "\n",
    "# Randomize the target variable (Y)\n",
    "RandomTrain_Y = Train_Y.copy()\n",
    "np.random.shuffle(RandomTrain_Y)\n",
    "\n",
    "# Train and evaluate the randomized model\n",
    "randomized_model = LogisticRegression(C=0.1, solver='newton-cg', random_state=42)\n",
    "randomized_model.fit(Train_X, RandomTrain_Y)\n",
    "y_pred_randomized = randomized_model.predict(Valid_X)\n",
    "accuracy_randomized = accuracy_score(Valid_Y, y_pred_randomized)\n",
    "\n",
    "accuracy_difference = accuracy_original - accuracy_randomized\n",
    "percentage_difference = (accuracy_difference / accuracy_randomized) * 100\n",
    "\n",
    "# Compare accuracy of the original model with the randomized model\n",
    "print(\"Accuracy of the Original Model:\", accuracy_original)\n",
    "print(\"Accuracy of the Randomized Model:\", accuracy_randomized)\n",
    "print(f\"Percentage Difference: {percentage_difference:.2f}%\")\n",
    "\n",
    "if accuracy_difference > 0:\n",
    "    print(f\"The original model is {percentage_difference:.2f}% better than random guessing.\")\n",
    "else:\n",
    "    print(\"The original model is not better than random guessing.\")"
   ]
  },
  {
   "cell_type": "markdown",
   "metadata": {},
   "source": [
    "Let's try it with a few trials of randomization to see if we get similar scores"
   ]
  },
  {
   "cell_type": "code",
   "execution_count": 348,
   "metadata": {},
   "outputs": [
    {
     "name": "stdout",
     "output_type": "stream",
     "text": [
      "Average Percentage Difference over 10 Tests: 0.7748027757570668\n"
     ]
    }
   ],
   "source": [
    "num_tests = 10\n",
    "total_percentage_difference = 0\n",
    "\n",
    "for i in range(num_tests):\n",
    "    original_model = LogisticRegression(C=0.1, penalty=\"l2\", solver='newton-cg', random_state=42)\n",
    "    original_model.fit(Train_X, Train_Y)\n",
    "    y_pred_original = original_model.predict(Valid_X)\n",
    "    accuracy_original = accuracy_score(Valid_Y, y_pred_original)\n",
    "\n",
    "    RandomTrain_Y = Train_Y.copy()\n",
    "    np.random.shuffle(RandomTrain_Y)\n",
    "\n",
    "    # Train and evaluate the randomized model\n",
    "    randomized_model = LogisticRegression(C=0.1,penalty=\"l2\", solver='newton-cg', random_state=42)\n",
    "    randomized_model.fit(Train_X, RandomTrain_Y)\n",
    "    y_pred_randomized = randomized_model.predict(Valid_X)\n",
    "    accuracy_randomized = accuracy_score(Valid_Y, y_pred_randomized)\n",
    "\n",
    "    accuracy_difference = accuracy_original - accuracy_randomized\n",
    "    percentage_difference = (accuracy_difference / accuracy_randomized)\n",
    "\n",
    "    # Accumulate the percentage difference for later averaging\n",
    "    total_percentage_difference += percentage_difference\n",
    "\n",
    "# Calculate and print the average percentage difference\n",
    "average_percentage_difference = total_percentage_difference / num_tests\n",
    "print(f\"Average Percentage Difference over {num_tests} Tests: {average_percentage_difference}\")"
   ]
  },
  {
   "cell_type": "markdown",
   "metadata": {},
   "source": [
    "Since our model's accuracy is significantly higher (~ 60 to 70%) than random guessing, it's a good sign that our model is learning something useful from the data."
   ]
  },
  {
   "cell_type": "markdown",
   "metadata": {},
   "source": [
    "### Section 5: Feature Engineering (Finding genes that are most important for our model decision)\n",
    "\n",
    "We will be using Lasso Regression for this. Lasso regression is useful for feature selection. It adds a penalty term to the linear regression objective function, which encourages the model to set the coefficients of less important features to zero. Features with non-zero coefficients are considered important, and features with zero coefficients are considered unimportant."
   ]
  },
  {
   "cell_type": "code",
   "execution_count": 16,
   "metadata": {},
   "outputs": [
    {
     "data": {
      "text/html": [
       "<div>\n",
       "<style scoped>\n",
       "    .dataframe tbody tr th:only-of-type {\n",
       "        vertical-align: middle;\n",
       "    }\n",
       "\n",
       "    .dataframe tbody tr th {\n",
       "        vertical-align: top;\n",
       "    }\n",
       "\n",
       "    .dataframe thead th {\n",
       "        text-align: right;\n",
       "    }\n",
       "</style>\n",
       "<table border=\"1\" class=\"dataframe\">\n",
       "  <thead>\n",
       "    <tr style=\"text-align: right;\">\n",
       "      <th></th>\n",
       "      <th>Feature Names</th>\n",
       "      <th>Coefficients (Abs)</th>\n",
       "    </tr>\n",
       "  </thead>\n",
       "  <tbody>\n",
       "    <tr>\n",
       "      <th>12532</th>\n",
       "      <td>ENSG00000173157</td>\n",
       "      <td>0.503697</td>\n",
       "    </tr>\n",
       "    <tr>\n",
       "      <th>13574</th>\n",
       "      <td>ENSG00000180316</td>\n",
       "      <td>0.456726</td>\n",
       "    </tr>\n",
       "    <tr>\n",
       "      <th>4280</th>\n",
       "      <td>ENSG00000115604</td>\n",
       "      <td>0.380676</td>\n",
       "    </tr>\n",
       "    <tr>\n",
       "      <th>13265</th>\n",
       "      <td>ENSG00000177947</td>\n",
       "      <td>0.305587</td>\n",
       "    </tr>\n",
       "    <tr>\n",
       "      <th>8119</th>\n",
       "      <td>ENSG00000144290</td>\n",
       "      <td>0.301129</td>\n",
       "    </tr>\n",
       "  </tbody>\n",
       "</table>\n",
       "</div>"
      ],
      "text/plain": [
       "         Feature Names  Coefficients (Abs)\n",
       "12532  ENSG00000173157            0.503697\n",
       "13574  ENSG00000180316            0.456726\n",
       "4280   ENSG00000115604            0.380676\n",
       "13265  ENSG00000177947            0.305587\n",
       "8119   ENSG00000144290            0.301129"
      ]
     },
     "execution_count": 16,
     "metadata": {},
     "output_type": "execute_result"
    }
   ],
   "source": [
    "lasso = LogisticRegression(penalty=\"l1\", C = 10, solver=\"liblinear\", random_state=42)\n",
    "\n",
    "# Fit the Lasso model to your data\n",
    "lasso.fit(Train_X, Train_Y)\n",
    "\n",
    "# Get the coefficients of the features\n",
    "coefficients = lasso.coef_\n",
    "\n",
    "# Get the absolute coefficients\n",
    "abs_coefficients = np.abs(coefficients[0])\n",
    "\n",
    "imptfeatures_df = pd.DataFrame(data={'Feature Names': train_X.columns, 'Coefficients (Abs)': abs_coefficients})\n",
    "imptfeatures_df = imptfeatures_df.sort_values(by='Coefficients (Abs)', ascending=False)\n",
    "\n",
    "imptfeatures_df.head()\n"
   ]
  },
  {
   "cell_type": "markdown",
   "metadata": {},
   "source": [
    "Gene with the highest coefficient, and therefore the most important here is \"ENSG00000144290\". The top 5 genes (in ascending order) have been displayed in the table above. "
   ]
  },
  {
   "cell_type": "markdown",
   "metadata": {},
   "source": [
    "### Section 6: Retrying our regression models with only the important features\n"
   ]
  },
  {
   "cell_type": "markdown",
   "metadata": {},
   "source": [
    "6A) Creating a new dataframe for Train X with only the important features\n",
    "\n",
    "Here, we have identified the important features as features with coefficients more than the mean value. So here, we are only selecting 50% of the data that we believe are important, and dropping the other 50%. "
   ]
  },
  {
   "cell_type": "code",
   "execution_count": null,
   "metadata": {},
   "outputs": [
    {
     "name": "stdout",
     "output_type": "stream",
     "text": [
      "         Feature Names  Coefficients (Abs)\n",
      "8119   ENSG00000144290            0.426315\n",
      "13574  ENSG00000180316            0.410492\n",
      "14707  ENSG00000186970            0.408481\n",
      "15816  ENSG00000198812            0.395188\n",
      "13265  ENSG00000177947            0.332374\n",
      "...                ...                 ...\n",
      "655    ENSG00000050767            0.002639\n",
      "8942   ENSG00000151655            0.002620\n",
      "15127  ENSG00000196091            0.002617\n",
      "12991  ENSG00000176155            0.002557\n",
      "13446  ENSG00000179270            0.002468\n",
      "\n",
      "[737 rows x 2 columns]\n",
      "737\n"
     ]
    }
   ],
   "source": [
    "mean_value = imptfeatures_df['Coefficients (Abs)'].mean()\n",
    "\n",
    "top50features = imptfeatures_df['Coefficients (Abs)'] > mean_value\n",
    "\n",
    "# Apply the mask to filter the DataFrame\n",
    "top50features_df = imptfeatures_df[top50features]\n",
    "\n",
    "# Print the filtered DataFrame\n",
    "print(mean_value)\n",
    "print(top50features_df)\n",
    "print(len(top50features_df))\n"
   ]
  },
  {
   "cell_type": "code",
   "execution_count": 239,
   "metadata": {},
   "outputs": [],
   "source": [
    "# Extract the list of feature names from filtered_df\n",
    "filtered_feature_names = imptfeatures_df['Feature Names'].tolist()\n",
    "\n",
    "# Filter the feature names in Train_X that are in the filtered list\n",
    "filtered_train_X = train_X[filtered_feature_names].copy"
   ]
  },
  {
   "cell_type": "code",
   "execution_count": 273,
   "metadata": {},
   "outputs": [
    {
     "data": {
      "text/html": [
       "<div>\n",
       "<style scoped>\n",
       "    .dataframe tbody tr th:only-of-type {\n",
       "        vertical-align: middle;\n",
       "    }\n",
       "\n",
       "    .dataframe tbody tr th {\n",
       "        vertical-align: top;\n",
       "    }\n",
       "\n",
       "    .dataframe thead th {\n",
       "        text-align: right;\n",
       "    }\n",
       "</style>\n",
       "<table border=\"1\" class=\"dataframe\">\n",
       "  <thead>\n",
       "    <tr style=\"text-align: right;\">\n",
       "      <th></th>\n",
       "      <th>ENSG00000144290</th>\n",
       "      <th>ENSG00000180316</th>\n",
       "      <th>ENSG00000186970</th>\n",
       "      <th>ENSG00000198812</th>\n",
       "      <th>ENSG00000177947</th>\n",
       "      <th>ENSG00000171595</th>\n",
       "      <th>ENSG00000115507</th>\n",
       "      <th>ENSG00000183269</th>\n",
       "      <th>ENSG00000153714</th>\n",
       "      <th>ENSG00000272804</th>\n",
       "      <th>...</th>\n",
       "      <th>ENSG00000165757</th>\n",
       "      <th>ENSG00000182816</th>\n",
       "      <th>ENSG00000177283</th>\n",
       "      <th>ENSG00000088386</th>\n",
       "      <th>ENSG00000167992</th>\n",
       "      <th>ENSG00000050767</th>\n",
       "      <th>ENSG00000151655</th>\n",
       "      <th>ENSG00000196091</th>\n",
       "      <th>ENSG00000176155</th>\n",
       "      <th>ENSG00000179270</th>\n",
       "    </tr>\n",
       "    <tr>\n",
       "      <th>Unnamed: 0</th>\n",
       "      <th></th>\n",
       "      <th></th>\n",
       "      <th></th>\n",
       "      <th></th>\n",
       "      <th></th>\n",
       "      <th></th>\n",
       "      <th></th>\n",
       "      <th></th>\n",
       "      <th></th>\n",
       "      <th></th>\n",
       "      <th></th>\n",
       "      <th></th>\n",
       "      <th></th>\n",
       "      <th></th>\n",
       "      <th></th>\n",
       "      <th></th>\n",
       "      <th></th>\n",
       "      <th></th>\n",
       "      <th></th>\n",
       "      <th></th>\n",
       "      <th></th>\n",
       "    </tr>\n",
       "  </thead>\n",
       "  <tbody>\n",
       "    <tr>\n",
       "      <th>EB0D68BC-5FF9-44A5-A355-CA5441BFBA0A</th>\n",
       "      <td>-5.545564</td>\n",
       "      <td>-0.552217</td>\n",
       "      <td>-5.545564</td>\n",
       "      <td>-5.545564</td>\n",
       "      <td>-2.591861</td>\n",
       "      <td>0.841482</td>\n",
       "      <td>4.072424</td>\n",
       "      <td>-5.545564</td>\n",
       "      <td>5.000133</td>\n",
       "      <td>-5.545564</td>\n",
       "      <td>...</td>\n",
       "      <td>5.056630</td>\n",
       "      <td>-5.545564</td>\n",
       "      <td>6.397027</td>\n",
       "      <td>4.560478</td>\n",
       "      <td>3.932952</td>\n",
       "      <td>5.221290</td>\n",
       "      <td>2.093617</td>\n",
       "      <td>-5.545564</td>\n",
       "      <td>5.056569</td>\n",
       "      <td>-5.545564</td>\n",
       "    </tr>\n",
       "    <tr>\n",
       "      <th>0876B4BB-58BA-4C4C-84F4-E9D19EF96147</th>\n",
       "      <td>0.009192</td>\n",
       "      <td>-1.023171</td>\n",
       "      <td>-5.431256</td>\n",
       "      <td>-0.868416</td>\n",
       "      <td>-1.047912</td>\n",
       "      <td>0.441649</td>\n",
       "      <td>3.406330</td>\n",
       "      <td>-5.431256</td>\n",
       "      <td>4.126637</td>\n",
       "      <td>-5.431256</td>\n",
       "      <td>...</td>\n",
       "      <td>3.875505</td>\n",
       "      <td>-5.431256</td>\n",
       "      <td>5.894861</td>\n",
       "      <td>4.758385</td>\n",
       "      <td>2.730398</td>\n",
       "      <td>6.420057</td>\n",
       "      <td>1.427266</td>\n",
       "      <td>-1.912740</td>\n",
       "      <td>4.293231</td>\n",
       "      <td>-0.694802</td>\n",
       "    </tr>\n",
       "    <tr>\n",
       "      <th>EACD1021-7B52-4531-8806-B7555B73AC84</th>\n",
       "      <td>0.430614</td>\n",
       "      <td>-5.851870</td>\n",
       "      <td>-5.851870</td>\n",
       "      <td>0.704189</td>\n",
       "      <td>-5.851870</td>\n",
       "      <td>0.815245</td>\n",
       "      <td>5.688108</td>\n",
       "      <td>-5.851870</td>\n",
       "      <td>5.758435</td>\n",
       "      <td>-5.851870</td>\n",
       "      <td>...</td>\n",
       "      <td>4.394132</td>\n",
       "      <td>-5.851870</td>\n",
       "      <td>6.628883</td>\n",
       "      <td>8.583412</td>\n",
       "      <td>3.521284</td>\n",
       "      <td>7.888249</td>\n",
       "      <td>4.824663</td>\n",
       "      <td>-5.851870</td>\n",
       "      <td>6.469896</td>\n",
       "      <td>-5.851870</td>\n",
       "    </tr>\n",
       "    <tr>\n",
       "      <th>368ACD26-C7FB-4974-BB7F-0AE22670CB0E</th>\n",
       "      <td>-1.754195</td>\n",
       "      <td>0.331203</td>\n",
       "      <td>-5.994056</td>\n",
       "      <td>-0.207189</td>\n",
       "      <td>-5.994056</td>\n",
       "      <td>6.271409</td>\n",
       "      <td>4.116085</td>\n",
       "      <td>-5.994056</td>\n",
       "      <td>4.927621</td>\n",
       "      <td>0.087831</td>\n",
       "      <td>...</td>\n",
       "      <td>4.106226</td>\n",
       "      <td>-5.994056</td>\n",
       "      <td>5.575181</td>\n",
       "      <td>5.079910</td>\n",
       "      <td>3.309869</td>\n",
       "      <td>2.934991</td>\n",
       "      <td>3.566756</td>\n",
       "      <td>-0.152901</td>\n",
       "      <td>5.569141</td>\n",
       "      <td>-1.236231</td>\n",
       "    </tr>\n",
       "    <tr>\n",
       "      <th>F23B0A1A-25AE-41D9-8C49-B692C4FDE1E4</th>\n",
       "      <td>-0.724797</td>\n",
       "      <td>0.880016</td>\n",
       "      <td>-5.870484</td>\n",
       "      <td>-5.870484</td>\n",
       "      <td>-5.870484</td>\n",
       "      <td>-5.870484</td>\n",
       "      <td>3.301508</td>\n",
       "      <td>-5.870484</td>\n",
       "      <td>6.165321</td>\n",
       "      <td>0.623398</td>\n",
       "      <td>...</td>\n",
       "      <td>4.243541</td>\n",
       "      <td>-5.870484</td>\n",
       "      <td>6.963675</td>\n",
       "      <td>4.249375</td>\n",
       "      <td>4.192860</td>\n",
       "      <td>5.996565</td>\n",
       "      <td>3.448576</td>\n",
       "      <td>-5.870484</td>\n",
       "      <td>5.132728</td>\n",
       "      <td>-0.687418</td>\n",
       "    </tr>\n",
       "  </tbody>\n",
       "</table>\n",
       "<p>5 rows × 737 columns</p>\n",
       "</div>"
      ],
      "text/plain": [
       "                                      ENSG00000144290  ENSG00000180316  \\\n",
       "Unnamed: 0                                                               \n",
       "EB0D68BC-5FF9-44A5-A355-CA5441BFBA0A        -5.545564        -0.552217   \n",
       "0876B4BB-58BA-4C4C-84F4-E9D19EF96147         0.009192        -1.023171   \n",
       "EACD1021-7B52-4531-8806-B7555B73AC84         0.430614        -5.851870   \n",
       "368ACD26-C7FB-4974-BB7F-0AE22670CB0E        -1.754195         0.331203   \n",
       "F23B0A1A-25AE-41D9-8C49-B692C4FDE1E4        -0.724797         0.880016   \n",
       "\n",
       "                                      ENSG00000186970  ENSG00000198812  \\\n",
       "Unnamed: 0                                                               \n",
       "EB0D68BC-5FF9-44A5-A355-CA5441BFBA0A        -5.545564        -5.545564   \n",
       "0876B4BB-58BA-4C4C-84F4-E9D19EF96147        -5.431256        -0.868416   \n",
       "EACD1021-7B52-4531-8806-B7555B73AC84        -5.851870         0.704189   \n",
       "368ACD26-C7FB-4974-BB7F-0AE22670CB0E        -5.994056        -0.207189   \n",
       "F23B0A1A-25AE-41D9-8C49-B692C4FDE1E4        -5.870484        -5.870484   \n",
       "\n",
       "                                      ENSG00000177947  ENSG00000171595  \\\n",
       "Unnamed: 0                                                               \n",
       "EB0D68BC-5FF9-44A5-A355-CA5441BFBA0A        -2.591861         0.841482   \n",
       "0876B4BB-58BA-4C4C-84F4-E9D19EF96147        -1.047912         0.441649   \n",
       "EACD1021-7B52-4531-8806-B7555B73AC84        -5.851870         0.815245   \n",
       "368ACD26-C7FB-4974-BB7F-0AE22670CB0E        -5.994056         6.271409   \n",
       "F23B0A1A-25AE-41D9-8C49-B692C4FDE1E4        -5.870484        -5.870484   \n",
       "\n",
       "                                      ENSG00000115507  ENSG00000183269  \\\n",
       "Unnamed: 0                                                               \n",
       "EB0D68BC-5FF9-44A5-A355-CA5441BFBA0A         4.072424        -5.545564   \n",
       "0876B4BB-58BA-4C4C-84F4-E9D19EF96147         3.406330        -5.431256   \n",
       "EACD1021-7B52-4531-8806-B7555B73AC84         5.688108        -5.851870   \n",
       "368ACD26-C7FB-4974-BB7F-0AE22670CB0E         4.116085        -5.994056   \n",
       "F23B0A1A-25AE-41D9-8C49-B692C4FDE1E4         3.301508        -5.870484   \n",
       "\n",
       "                                      ENSG00000153714  ENSG00000272804  ...  \\\n",
       "Unnamed: 0                                                              ...   \n",
       "EB0D68BC-5FF9-44A5-A355-CA5441BFBA0A         5.000133        -5.545564  ...   \n",
       "0876B4BB-58BA-4C4C-84F4-E9D19EF96147         4.126637        -5.431256  ...   \n",
       "EACD1021-7B52-4531-8806-B7555B73AC84         5.758435        -5.851870  ...   \n",
       "368ACD26-C7FB-4974-BB7F-0AE22670CB0E         4.927621         0.087831  ...   \n",
       "F23B0A1A-25AE-41D9-8C49-B692C4FDE1E4         6.165321         0.623398  ...   \n",
       "\n",
       "                                      ENSG00000165757  ENSG00000182816  \\\n",
       "Unnamed: 0                                                               \n",
       "EB0D68BC-5FF9-44A5-A355-CA5441BFBA0A         5.056630        -5.545564   \n",
       "0876B4BB-58BA-4C4C-84F4-E9D19EF96147         3.875505        -5.431256   \n",
       "EACD1021-7B52-4531-8806-B7555B73AC84         4.394132        -5.851870   \n",
       "368ACD26-C7FB-4974-BB7F-0AE22670CB0E         4.106226        -5.994056   \n",
       "F23B0A1A-25AE-41D9-8C49-B692C4FDE1E4         4.243541        -5.870484   \n",
       "\n",
       "                                      ENSG00000177283  ENSG00000088386  \\\n",
       "Unnamed: 0                                                               \n",
       "EB0D68BC-5FF9-44A5-A355-CA5441BFBA0A         6.397027         4.560478   \n",
       "0876B4BB-58BA-4C4C-84F4-E9D19EF96147         5.894861         4.758385   \n",
       "EACD1021-7B52-4531-8806-B7555B73AC84         6.628883         8.583412   \n",
       "368ACD26-C7FB-4974-BB7F-0AE22670CB0E         5.575181         5.079910   \n",
       "F23B0A1A-25AE-41D9-8C49-B692C4FDE1E4         6.963675         4.249375   \n",
       "\n",
       "                                      ENSG00000167992  ENSG00000050767  \\\n",
       "Unnamed: 0                                                               \n",
       "EB0D68BC-5FF9-44A5-A355-CA5441BFBA0A         3.932952         5.221290   \n",
       "0876B4BB-58BA-4C4C-84F4-E9D19EF96147         2.730398         6.420057   \n",
       "EACD1021-7B52-4531-8806-B7555B73AC84         3.521284         7.888249   \n",
       "368ACD26-C7FB-4974-BB7F-0AE22670CB0E         3.309869         2.934991   \n",
       "F23B0A1A-25AE-41D9-8C49-B692C4FDE1E4         4.192860         5.996565   \n",
       "\n",
       "                                      ENSG00000151655  ENSG00000196091  \\\n",
       "Unnamed: 0                                                               \n",
       "EB0D68BC-5FF9-44A5-A355-CA5441BFBA0A         2.093617        -5.545564   \n",
       "0876B4BB-58BA-4C4C-84F4-E9D19EF96147         1.427266        -1.912740   \n",
       "EACD1021-7B52-4531-8806-B7555B73AC84         4.824663        -5.851870   \n",
       "368ACD26-C7FB-4974-BB7F-0AE22670CB0E         3.566756        -0.152901   \n",
       "F23B0A1A-25AE-41D9-8C49-B692C4FDE1E4         3.448576        -5.870484   \n",
       "\n",
       "                                      ENSG00000176155  ENSG00000179270  \n",
       "Unnamed: 0                                                              \n",
       "EB0D68BC-5FF9-44A5-A355-CA5441BFBA0A         5.056569        -5.545564  \n",
       "0876B4BB-58BA-4C4C-84F4-E9D19EF96147         4.293231        -0.694802  \n",
       "EACD1021-7B52-4531-8806-B7555B73AC84         6.469896        -5.851870  \n",
       "368ACD26-C7FB-4974-BB7F-0AE22670CB0E         5.569141        -1.236231  \n",
       "F23B0A1A-25AE-41D9-8C49-B692C4FDE1E4         5.132728        -0.687418  \n",
       "\n",
       "[5 rows x 737 columns]"
      ]
     },
     "execution_count": 273,
     "metadata": {},
     "output_type": "execute_result"
    }
   ],
   "source": [
    "filtered_columns = top50features_df['Feature Names'].tolist()\n",
    "filtered_trainX = train_X[filtered_columns].copy()\n",
    "filtered_testX = test_X[filtered_columns].copy()\n",
    "\n",
    "filtered_trainX.head()"
   ]
  },
  {
   "cell_type": "code",
   "execution_count": 274,
   "metadata": {},
   "outputs": [],
   "source": [
    "filtered_TrainX = scaler.fit_transform(filtered_trainX)\n",
    "filtered_TestX = scaler.fit_transform(filtered_testX)\n",
    "\n",
    "from sklearn.model_selection import train_test_split\n",
    "filtered_Train_X, filtered_Valid_X, filtered_Train_Y, filtered_Valid_Y = train_test_split(filtered_TrainX, train_Y, test_size=0.2, random_state=42)"
   ]
  },
  {
   "cell_type": "markdown",
   "metadata": {},
   "source": [
    "6B) Linear Regression with Feature Selection"
   ]
  },
  {
   "cell_type": "code",
   "execution_count": 290,
   "metadata": {},
   "outputs": [
    {
     "name": "stdout",
     "output_type": "stream",
     "text": [
      "Accuracy on Validation Set for Linear Regression with Feature Selection : 0.8202247191011236\n",
      "F1 Score on Validation Set for Linear Regression with Feature Selection : 0.8367346938775511\n"
     ]
    }
   ],
   "source": [
    "linear_model = LinearRegression()\n",
    "\n",
    "# Train the model on the training data\n",
    "linear_model.fit(filtered_Train_X, filtered_Train_Y)\n",
    "\n",
    "# Assess model performance on the validation set\n",
    "y_pred = linear_model.predict(filtered_Valid_X)\n",
    "predicted_class = (y_pred > 0.5).astype(int)\n",
    "    \n",
    "# Calculate the F1 score\n",
    "f1_ImpLinear = f1_score(filtered_Valid_Y, predicted_class)\n",
    "    \n",
    "# Calculate the accuracy\n",
    "accuracy_ImpLinear = accuracy_score(filtered_Valid_Y, predicted_class)\n",
    "\n",
    "print(\"Accuracy on Validation Set for Linear Regression with Feature Selection :\", accuracy_ImpLinear)\n",
    "print(\"F1 Score on Validation Set for Linear Regression with Feature Selection :\", f1_ImpLinear)"
   ]
  },
  {
   "cell_type": "markdown",
   "metadata": {},
   "source": [
    "6C) Ridge Regression with Feature Selection"
   ]
  },
  {
   "cell_type": "code",
   "execution_count": 271,
   "metadata": {},
   "outputs": [
    {
     "name": "stdout",
     "output_type": "stream",
     "text": [
      "Accuracy on Validation Set for Ridge Regression with Feature Selection : 0.8426966292134831\n",
      "F1 Score on Validation Set for Ridge Regression with Feature Selection : 0.8627450980392157\n"
     ]
    }
   ],
   "source": [
    "ridge_model = LogisticRegression(penalty=\"l2\", C=0.1, solver=\"newton-cg\", max_iter=100)\n",
    "\n",
    "# Train the model on the training data\n",
    "ridge_model.fit(filtered_Train_X, filtered_Train_Y)\n",
    "\n",
    "# Assess model performance on the validation set\n",
    "predicted_class = ridge_model.predict(filtered_Valid_X)\n",
    "    \n",
    "# Calculate the F1 score\n",
    "f1_ImpRidge = f1_score(filtered_Valid_Y, predicted_class)\n",
    "    \n",
    "# Calculate the accuracy\n",
    "accuracy_ImpRidge = accuracy_score(filtered_Valid_Y, predicted_class)\n",
    "\n",
    "print(\"Accuracy on Validation Set for Ridge Regression with Feature Selection :\", accuracy_ImpRidge)\n",
    "print(\"F1 Score on Validation Set for Ridge Regression with Feature Selection :\", f1_ImpRidge)"
   ]
  },
  {
   "cell_type": "markdown",
   "metadata": {},
   "source": [
    "6D) Lasso Regression with Feature Selection"
   ]
  },
  {
   "cell_type": "code",
   "execution_count": 286,
   "metadata": {},
   "outputs": [
    {
     "name": "stdout",
     "output_type": "stream",
     "text": [
      "Accuracy on Validation Set for Lasso Regression with Feature Selection : 0.8314606741573034\n",
      "F1 Score on Validation Set for Lasso Regression with Feature Selection : 0.8543689320388349\n"
     ]
    }
   ],
   "source": [
    "lasso_model = LogisticRegression(penalty=\"l1\", C = 10, solver=\"liblinear\", random_state=42)\n",
    "\n",
    "# Train the model on the training data\n",
    "lasso_model.fit(filtered_Train_X, filtered_Train_Y)\n",
    "\n",
    "# Assess model performance on the validation set\n",
    "y_pred = lasso_model.predict(filtered_Valid_X)\n",
    "    \n",
    "# Calculate the F1 score\n",
    "f1_ImpLasso = f1_score(filtered_Valid_Y, y_pred)\n",
    "    \n",
    "# Calculate the accuracy\n",
    "accuracy_ImpLasso = accuracy_score(filtered_Valid_Y, y_pred)\n",
    "\n",
    "print(\"Accuracy on Validation Set for Lasso Regression with Feature Selection :\", accuracy_ImpLasso)\n",
    "print(\"F1 Score on Validation Set for Lasso Regression with Feature Selection :\", f1_ImpLasso)"
   ]
  },
  {
   "cell_type": "markdown",
   "metadata": {},
   "source": [
    "6C) Elastic Net Regression with Feature Selection"
   ]
  },
  {
   "cell_type": "code",
   "execution_count": 287,
   "metadata": {},
   "outputs": [
    {
     "name": "stdout",
     "output_type": "stream",
     "text": [
      "Accuracy on Validation Set for Elastic-Net Regression with Feature Selection : 0.8314606741573034\n",
      "F1 Score on Validation Set for Elastic-Net Regression with Feature Selection : 0.8571428571428571\n"
     ]
    }
   ],
   "source": [
    "elastic_model = LogisticRegression(C=0.1, penalty='elasticnet', random_state=42, solver=\"saga\", l1_ratio=0.3)\n",
    "\n",
    "# Train the model on the training data\n",
    "elastic_model.fit(filtered_Train_X, filtered_Train_Y)\n",
    "\n",
    "# Assess model performance on the validation set\n",
    "y_pred = elastic_model.predict(filtered_Valid_X)\n",
    "    \n",
    "# Calculate the F1 score\n",
    "f1_ImpElastic = f1_score(filtered_Valid_Y, y_pred)\n",
    "    \n",
    "# Calculate the accuracy\n",
    "accuracy_ImpElastic = accuracy_score(filtered_Valid_Y, y_pred)\n",
    "\n",
    "print(\"Accuracy on Validation Set for Elastic-Net Regression with Feature Selection :\", accuracy_ImpElastic)\n",
    "print(\"F1 Score on Validation Set for Elastic-Net Regression with Feature Selection :\", f1_ImpElastic)"
   ]
  },
  {
   "cell_type": "markdown",
   "metadata": {},
   "source": [
    "### Section 7: Visualizing the dataset to see if you there are any group/clustering of patients"
   ]
  },
  {
   "cell_type": "markdown",
   "metadata": {},
   "source": [
    "t-SNE is more preferred for visualizing and exploring high-dimensional data, in a lower-dimensional space while preserving non-linear patterns and structures. Hence, we will be using t-SNE for this section"
   ]
  },
  {
   "cell_type": "code",
   "execution_count": 264,
   "metadata": {},
   "outputs": [
    {
     "data": {
      "text/html": [
       "<div>\n",
       "<style scoped>\n",
       "    .dataframe tbody tr th:only-of-type {\n",
       "        vertical-align: middle;\n",
       "    }\n",
       "\n",
       "    .dataframe tbody tr th {\n",
       "        vertical-align: top;\n",
       "    }\n",
       "\n",
       "    .dataframe thead th {\n",
       "        text-align: right;\n",
       "    }\n",
       "</style>\n",
       "<table border=\"1\" class=\"dataframe\">\n",
       "  <thead>\n",
       "    <tr style=\"text-align: right;\">\n",
       "      <th></th>\n",
       "      <th>tSNE1</th>\n",
       "      <th>tSNE2</th>\n",
       "      <th>Y-Labels</th>\n",
       "    </tr>\n",
       "  </thead>\n",
       "  <tbody>\n",
       "    <tr>\n",
       "      <th>0</th>\n",
       "      <td>6.378516</td>\n",
       "      <td>-0.000949</td>\n",
       "      <td>0</td>\n",
       "    </tr>\n",
       "    <tr>\n",
       "      <th>1</th>\n",
       "      <td>8.340381</td>\n",
       "      <td>-4.351719</td>\n",
       "      <td>1</td>\n",
       "    </tr>\n",
       "    <tr>\n",
       "      <th>2</th>\n",
       "      <td>3.676410</td>\n",
       "      <td>8.484169</td>\n",
       "      <td>0</td>\n",
       "    </tr>\n",
       "    <tr>\n",
       "      <th>3</th>\n",
       "      <td>-4.061326</td>\n",
       "      <td>4.042249</td>\n",
       "      <td>0</td>\n",
       "    </tr>\n",
       "    <tr>\n",
       "      <th>4</th>\n",
       "      <td>-10.776715</td>\n",
       "      <td>6.291079</td>\n",
       "      <td>1</td>\n",
       "    </tr>\n",
       "  </tbody>\n",
       "</table>\n",
       "</div>"
      ],
      "text/plain": [
       "       tSNE1     tSNE2  Y-Labels\n",
       "0   6.378516 -0.000949         0\n",
       "1   8.340381 -4.351719         1\n",
       "2   3.676410  8.484169         0\n",
       "3  -4.061326  4.042249         0\n",
       "4 -10.776715  6.291079         1"
      ]
     },
     "execution_count": 264,
     "metadata": {},
     "output_type": "execute_result"
    }
   ],
   "source": [
    "from sklearn.manifold import TSNE\n",
    "\n",
    "tsne = TSNE(n_components=2, random_state=42)\n",
    "X_tsne = tsne.fit_transform(filtered_TrainX)\n",
    "\n",
    "tsne_df = pd.DataFrame(data={'tSNE1': X_tsne[:, 0], 'tSNE2': X_tsne[:, 1], 'Y-Labels': train_Y.values.flatten()})\n",
    "tsne_df.head()"
   ]
  },
  {
   "cell_type": "code",
   "execution_count": 317,
   "metadata": {},
   "outputs": [
    {
     "data": {
      "image/png": "[encoded data removed]",
      "text/plain": [
       "<Figure size 432x288 with 1 Axes>"
      ]
     },
     "metadata": {
      "needs_background": "light"
     },
     "output_type": "display_data"
    }
   ],
   "source": [
    "import seaborn as sns\n",
    "sns.scatterplot(x=X_tsne[:, 0], y=X_tsne[:, 1], hue=train_Y.values.flatten())\n",
    "plt.xlabel(\"t-SNE Dimension 1\")\n",
    "plt.ylabel(\"t-SNE Dimension 2\")\n",
    "plt.title(\"t-SNE Visualization of Training Data\")\n",
    "\n",
    "plt.show()"
   ]
  },
  {
   "cell_type": "markdown",
   "metadata": {},
   "source": [
    "From the plot above, we can clearly see that there are two distinct clusters (blue and orange). This shows that the first two tSNE componenets/features are able to split the data well into 2 clusters.\n",
    "\n",
    "The blue points (datapoints with label 0, encoding tumor grade “II-) are more clustered on the top left, while the orange points (datapoints with label 1, encoding tumor grade “III+”) are more clusted on the bottom right of the tSNE plot. "
   ]
  },
  {
   "cell_type": "markdown",
   "metadata": {},
   "source": [
    "### Section 8: Exploring meaningful connection between the top 10 most important genes and the disease"
   ]
  },
  {
   "cell_type": "code",
   "execution_count": 18,
   "metadata": {},
   "outputs": [
    {
     "data": {
      "text/html": [
       "<div>\n",
       "<style scoped>\n",
       "    .dataframe tbody tr th:only-of-type {\n",
       "        vertical-align: middle;\n",
       "    }\n",
       "\n",
       "    .dataframe tbody tr th {\n",
       "        vertical-align: top;\n",
       "    }\n",
       "\n",
       "    .dataframe thead th {\n",
       "        text-align: right;\n",
       "    }\n",
       "</style>\n",
       "<table border=\"1\" class=\"dataframe\">\n",
       "  <thead>\n",
       "    <tr style=\"text-align: right;\">\n",
       "      <th></th>\n",
       "      <th>Feature Names</th>\n",
       "      <th>Coefficients (Abs)</th>\n",
       "    </tr>\n",
       "  </thead>\n",
       "  <tbody>\n",
       "    <tr>\n",
       "      <th>12532</th>\n",
       "      <td>ENSG00000173157</td>\n",
       "      <td>0.503697</td>\n",
       "    </tr>\n",
       "    <tr>\n",
       "      <th>13574</th>\n",
       "      <td>ENSG00000180316</td>\n",
       "      <td>0.456726</td>\n",
       "    </tr>\n",
       "    <tr>\n",
       "      <th>4280</th>\n",
       "      <td>ENSG00000115604</td>\n",
       "      <td>0.380676</td>\n",
       "    </tr>\n",
       "    <tr>\n",
       "      <th>13265</th>\n",
       "      <td>ENSG00000177947</td>\n",
       "      <td>0.305587</td>\n",
       "    </tr>\n",
       "    <tr>\n",
       "      <th>8119</th>\n",
       "      <td>ENSG00000144290</td>\n",
       "      <td>0.301129</td>\n",
       "    </tr>\n",
       "    <tr>\n",
       "      <th>17061</th>\n",
       "      <td>ENSG00000236279</td>\n",
       "      <td>0.281994</td>\n",
       "    </tr>\n",
       "    <tr>\n",
       "      <th>16773</th>\n",
       "      <td>ENSG00000221813</td>\n",
       "      <td>0.279414</td>\n",
       "    </tr>\n",
       "    <tr>\n",
       "      <th>2782</th>\n",
       "      <td>ENSG00000104313</td>\n",
       "      <td>0.276036</td>\n",
       "    </tr>\n",
       "    <tr>\n",
       "      <th>15816</th>\n",
       "      <td>ENSG00000198812</td>\n",
       "      <td>0.271952</td>\n",
       "    </tr>\n",
       "    <tr>\n",
       "      <th>1865</th>\n",
       "      <td>ENSG00000091583</td>\n",
       "      <td>0.262125</td>\n",
       "    </tr>\n",
       "  </tbody>\n",
       "</table>\n",
       "</div>"
      ],
      "text/plain": [
       "         Feature Names  Coefficients (Abs)\n",
       "12532  ENSG00000173157            0.503697\n",
       "13574  ENSG00000180316            0.456726\n",
       "4280   ENSG00000115604            0.380676\n",
       "13265  ENSG00000177947            0.305587\n",
       "8119   ENSG00000144290            0.301129\n",
       "17061  ENSG00000236279            0.281994\n",
       "16773  ENSG00000221813            0.279414\n",
       "2782   ENSG00000104313            0.276036\n",
       "15816  ENSG00000198812            0.271952\n",
       "1865   ENSG00000091583            0.262125"
      ]
     },
     "execution_count": 18,
     "metadata": {},
     "output_type": "execute_result"
    }
   ],
   "source": [
    "imptfeatures_df.head(10)"
   ]
  },
  {
   "cell_type": "markdown",
   "metadata": {},
   "source": [
    "By analysing the functions of the proteins encoded by the top 10 genes identified above, we can see that they all play a key role in cellular growth. And this makes sense since cancer is often described as a disease characterized by uncontrolled and abnormal cellular growth. Either these proteins have promote excessive cell growth or inhibit cell death - which are result from a disruption in the normal regulation of cell growth and division.\n",
    "\n",
    "Based on google search, the genes that are identified to be associated with Endometrial carcinomas are TP53 PTEN PIK3R1 PIK3CA PGR KRAS. Unfortunately, none of of our top genes identified above code for the proteins listed above, which suggest that our approach of using Lasso Regression to pick the most important genes using the coefficient values may not be the most ideal. \n",
    "\n",
    "Below we will be trying another method (Recursive Feature Elimination) to see if this makes any changes to our result, and if it is better at predicting the top genes associated with UCEC."
   ]
  },
  {
   "cell_type": "code",
   "execution_count": 20,
   "metadata": {},
   "outputs": [
    {
     "name": "stdout",
     "output_type": "stream",
     "text": [
      "Top 10 Most Important Features:\n",
      "               Feature  Ranking\n",
      "17770  ENSG00000272804        1\n",
      "2281   ENSG00000100665        1\n",
      "274    ENSG00000011201        1\n",
      "2856   ENSG00000104833        1\n",
      "12361  ENSG00000172247        1\n",
      "15320  ENSG00000196782        1\n",
      "4259   ENSG00000115507        1\n",
      "1511   ENSG00000082512        1\n",
      "14019  ENSG00000183269        1\n",
      "9745   ENSG00000159217        1\n"
     ]
    }
   ],
   "source": [
    "from sklearn.feature_selection import RFE\n",
    "\n",
    "# Create a logistic regression model\n",
    "logistic_model = LogisticRegression(C=0.1, penalty='l2',solver='newton-cg', random_state=42, max_iter=100)\n",
    "\n",
    "rfe = RFE(logistic_model, 10)\n",
    "\n",
    "# Fit RFE to your training data\n",
    "rfe.fit(Train_X, Train_Y)\n",
    "\n",
    "# Get the ranking of each feature\n",
    "feature_ranking = rfe.ranking_\n",
    "\n",
    "# Create a DataFrame to associate feature names with their ranking\n",
    "feature_ranking_df = pd.DataFrame({'Feature': train_X.columns, 'Ranking': feature_ranking})\n",
    "\n",
    "# Sort the DataFrame by ranking and print the top 10 most important features\n",
    "top_10_features = feature_ranking_df.sort_values(by='Ranking').head(10)\n",
    "print(\"Top 10 Most Important Features:\")\n",
    "print(top_10_features)"
   ]
  },
  {
   "cell_type": "markdown",
   "metadata": {},
   "source": [
    "When analysing the proteins encoded by the top 10 genes we have identified with RFE above, there are some genes that have shown proven associations with UCEC. I managed to find 2 such genes - one is ENSG00000104833, which encodes for protein TUBB4A. Based on research, TUBB4A is associated with telemoere maintenance and contributes to EC carcinogenesis and prognosis. And the other gene is ENSG00000159217, which encodes for protein IGF2BP1. Gene enrichment analysis have indicated that high IGF2BP1 gene expression is associated with cytoplasmic stress granules, which is a good indicator/predictor for UCEC patient prognosis."
   ]
  }
 ],
 "metadata": {
  "kernelspec": {
   "display_name": "Python 3",
   "language": "python",
   "name": "python3"
  },
  "language_info": {
   "codemirror_mode": {
    "name": "ipython",
    "version": 3
   },
   "file_extension": ".py",
   "mimetype": "text/x-python",
   "name": "python",
   "nbconvert_exporter": "python",
   "pygments_lexer": "ipython3",
   "version": "3.8.8"
  },
  "orig_nbformat": 4
 },
 "nbformat": 4,
 "nbformat_minor": 2
}
